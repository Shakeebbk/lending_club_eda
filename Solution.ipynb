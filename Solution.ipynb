{
 "cells": [
  {
   "cell_type": "code",
   "execution_count": 1,
   "metadata": {},
   "outputs": [],
   "source": [
    "import pandas as pd\n",
    "import matplotlib.pyplot as plt\n",
    "\n",
    "pd.set_option('display.max_colwidth', -1)"
   ]
  },
  {
   "cell_type": "code",
   "execution_count": 2,
   "metadata": {},
   "outputs": [
    {
     "name": "stdout",
     "output_type": "stream",
     "text": [
      "        id  member_id  loan_amnt  funded_amnt  funded_amnt_inv        term  \\\n",
      "0  1077501  1296599    5000       5000         4975.0            36 months   \n",
      "1  1077430  1314167    2500       2500         2500.0            60 months   \n",
      "2  1077175  1313524    2400       2400         2400.0            36 months   \n",
      "3  1076863  1277178    10000      10000        10000.0           36 months   \n",
      "4  1075358  1311748    3000       3000         3000.0            60 months   \n",
      "\n",
      "  int_rate  installment grade sub_grade  ... num_tl_90g_dpd_24m  \\\n",
      "0  10.65%   162.87       B     B2        ... NaN                  \n",
      "1  15.27%   59.83        C     C4        ... NaN                  \n",
      "2  15.96%   84.33        C     C5        ... NaN                  \n",
      "3  13.49%   339.31       C     C1        ... NaN                  \n",
      "4  12.69%   67.79        B     B5        ... NaN                  \n",
      "\n",
      "  num_tl_op_past_12m pct_tl_nvr_dlq  percent_bc_gt_75 pub_rec_bankruptcies  \\\n",
      "0 NaN                NaN            NaN                0.0                   \n",
      "1 NaN                NaN            NaN                0.0                   \n",
      "2 NaN                NaN            NaN                0.0                   \n",
      "3 NaN                NaN            NaN                0.0                   \n",
      "4 NaN                NaN            NaN                0.0                   \n",
      "\n",
      "  tax_liens tot_hi_cred_lim total_bal_ex_mort total_bc_limit  \\\n",
      "0  0.0      NaN             NaN               NaN              \n",
      "1  0.0      NaN             NaN               NaN              \n",
      "2  0.0      NaN             NaN               NaN              \n",
      "3  0.0      NaN             NaN               NaN              \n",
      "4  0.0      NaN             NaN               NaN              \n",
      "\n",
      "  total_il_high_credit_limit  \n",
      "0 NaN                         \n",
      "1 NaN                         \n",
      "2 NaN                         \n",
      "3 NaN                         \n",
      "4 NaN                         \n",
      "\n",
      "[5 rows x 111 columns]\n",
      "['id', 'member_id', 'loan_amnt', 'funded_amnt', 'funded_amnt_inv', 'term', 'int_rate', 'installment', 'grade', 'sub_grade', 'emp_title', 'emp_length', 'home_ownership', 'annual_inc', 'verification_status', 'issue_d', 'loan_status', 'pymnt_plan', 'url', 'desc', 'purpose', 'title', 'zip_code', 'addr_state', 'dti', 'delinq_2yrs', 'earliest_cr_line', 'inq_last_6mths', 'mths_since_last_delinq', 'mths_since_last_record', 'open_acc', 'pub_rec', 'revol_bal', 'revol_util', 'total_acc', 'initial_list_status', 'out_prncp', 'out_prncp_inv', 'total_pymnt', 'total_pymnt_inv', 'total_rec_prncp', 'total_rec_int', 'total_rec_late_fee', 'recoveries', 'collection_recovery_fee', 'last_pymnt_d', 'last_pymnt_amnt', 'next_pymnt_d', 'last_credit_pull_d', 'collections_12_mths_ex_med', 'mths_since_last_major_derog', 'policy_code', 'application_type', 'annual_inc_joint', 'dti_joint', 'verification_status_joint', 'acc_now_delinq', 'tot_coll_amt', 'tot_cur_bal', 'open_acc_6m', 'open_il_6m', 'open_il_12m', 'open_il_24m', 'mths_since_rcnt_il', 'total_bal_il', 'il_util', 'open_rv_12m', 'open_rv_24m', 'max_bal_bc', 'all_util', 'total_rev_hi_lim', 'inq_fi', 'total_cu_tl', 'inq_last_12m', 'acc_open_past_24mths', 'avg_cur_bal', 'bc_open_to_buy', 'bc_util', 'chargeoff_within_12_mths', 'delinq_amnt', 'mo_sin_old_il_acct', 'mo_sin_old_rev_tl_op', 'mo_sin_rcnt_rev_tl_op', 'mo_sin_rcnt_tl', 'mort_acc', 'mths_since_recent_bc', 'mths_since_recent_bc_dlq', 'mths_since_recent_inq', 'mths_since_recent_revol_delinq', 'num_accts_ever_120_pd', 'num_actv_bc_tl', 'num_actv_rev_tl', 'num_bc_sats', 'num_bc_tl', 'num_il_tl', 'num_op_rev_tl', 'num_rev_accts', 'num_rev_tl_bal_gt_0', 'num_sats', 'num_tl_120dpd_2m', 'num_tl_30dpd', 'num_tl_90g_dpd_24m', 'num_tl_op_past_12m', 'pct_tl_nvr_dlq', 'percent_bc_gt_75', 'pub_rec_bankruptcies', 'tax_liens', 'tot_hi_cred_lim', 'total_bal_ex_mort', 'total_bc_limit', 'total_il_high_credit_limit']\n",
      "39717\n"
     ]
    },
    {
     "name": "stderr",
     "output_type": "stream",
     "text": [
      "/home/shakeeb/anaconda3/lib/python3.7/site-packages/IPython/core/interactiveshell.py:3049: DtypeWarning: Columns (47) have mixed types. Specify dtype option on import or set low_memory=False.\n",
      "  interactivity=interactivity, compiler=compiler, result=result)\n"
     ]
    }
   ],
   "source": [
    "loan_data = pd.read_csv('loan/loan.csv')\n",
    "print(loan_data.head())\n",
    "print(list(loan_data.columns))\n",
    "print(len(loan_data.index))"
   ]
  },
  {
   "cell_type": "code",
   "execution_count": 3,
   "metadata": {},
   "outputs": [],
   "source": [
    "def print_missing_value_percentage(df):\n",
    "    print(round(100 * (df.isna().sum()/len(df.index)), 2))"
   ]
  },
  {
   "cell_type": "code",
   "execution_count": 4,
   "metadata": {},
   "outputs": [
    {
     "name": "stdout",
     "output_type": "stream",
     "text": [
      "id                                0.00  \n",
      "member_id                         0.00  \n",
      "loan_amnt                         0.00  \n",
      "funded_amnt                       0.00  \n",
      "funded_amnt_inv                   0.00  \n",
      "term                              0.00  \n",
      "int_rate                          0.00  \n",
      "installment                       0.00  \n",
      "grade                             0.00  \n",
      "sub_grade                         0.00  \n",
      "emp_title                         6.19  \n",
      "emp_length                        2.71  \n",
      "home_ownership                    0.00  \n",
      "annual_inc                        0.00  \n",
      "verification_status               0.00  \n",
      "issue_d                           0.00  \n",
      "loan_status                       0.00  \n",
      "pymnt_plan                        0.00  \n",
      "url                               0.00  \n",
      "desc                              32.58 \n",
      "purpose                           0.00  \n",
      "title                             0.03  \n",
      "zip_code                          0.00  \n",
      "addr_state                        0.00  \n",
      "dti                               0.00  \n",
      "delinq_2yrs                       0.00  \n",
      "earliest_cr_line                  0.00  \n",
      "inq_last_6mths                    0.00  \n",
      "mths_since_last_delinq            64.66 \n",
      "mths_since_last_record            92.99 \n",
      "                                  ...   \n",
      "mo_sin_old_rev_tl_op              100.00\n",
      "mo_sin_rcnt_rev_tl_op             100.00\n",
      "mo_sin_rcnt_tl                    100.00\n",
      "mort_acc                          100.00\n",
      "mths_since_recent_bc              100.00\n",
      "mths_since_recent_bc_dlq          100.00\n",
      "mths_since_recent_inq             100.00\n",
      "mths_since_recent_revol_delinq    100.00\n",
      "num_accts_ever_120_pd             100.00\n",
      "num_actv_bc_tl                    100.00\n",
      "num_actv_rev_tl                   100.00\n",
      "num_bc_sats                       100.00\n",
      "num_bc_tl                         100.00\n",
      "num_il_tl                         100.00\n",
      "num_op_rev_tl                     100.00\n",
      "num_rev_accts                     100.00\n",
      "num_rev_tl_bal_gt_0               100.00\n",
      "num_sats                          100.00\n",
      "num_tl_120dpd_2m                  100.00\n",
      "num_tl_30dpd                      100.00\n",
      "num_tl_90g_dpd_24m                100.00\n",
      "num_tl_op_past_12m                100.00\n",
      "pct_tl_nvr_dlq                    100.00\n",
      "percent_bc_gt_75                  100.00\n",
      "pub_rec_bankruptcies              1.75  \n",
      "tax_liens                         0.10  \n",
      "tot_hi_cred_lim                   100.00\n",
      "total_bal_ex_mort                 100.00\n",
      "total_bc_limit                    100.00\n",
      "total_il_high_credit_limit        100.00\n",
      "Length: 111, dtype: float64\n"
     ]
    }
   ],
   "source": [
    "print_missing_value_percentage(loan_data)"
   ]
  },
  {
   "cell_type": "code",
   "execution_count": 7,
   "metadata": {},
   "outputs": [
    {
     "name": "stdout",
     "output_type": "stream",
     "text": [
      "No of columns with more than 50% missing values: 57\n",
      "No of columns after dropping columns with more than 50% missing values: 54\n"
     ]
    }
   ],
   "source": [
    "# drop columns where more than 50% missing na values\n",
    "missing_value_columns = loan_data.columns[(loan_data.isna().sum()/len(loan_data.index)) >= 0.5]\n",
    "print('No of columns with more than 50% missing values:', len(missing_value_columns))\n",
    "cleanedup_loan_data = loan_data.drop(missing_value_columns, axis=1, inplace=False)\n",
    "print('No of columns after dropping columns with more than 50% missing values:', len(cleanedup_loan_data.columns))"
   ]
  },
  {
   "cell_type": "code",
   "execution_count": 9,
   "metadata": {},
   "outputs": [
    {
     "name": "stdout",
     "output_type": "stream",
     "text": [
      "id                            0.00 \n",
      "member_id                     0.00 \n",
      "loan_amnt                     0.00 \n",
      "funded_amnt                   0.00 \n",
      "funded_amnt_inv               0.00 \n",
      "term                          0.00 \n",
      "int_rate                      0.00 \n",
      "installment                   0.00 \n",
      "grade                         0.00 \n",
      "sub_grade                     0.00 \n",
      "emp_title                     6.19 \n",
      "emp_length                    2.71 \n",
      "home_ownership                0.00 \n",
      "annual_inc                    0.00 \n",
      "verification_status           0.00 \n",
      "issue_d                       0.00 \n",
      "loan_status                   0.00 \n",
      "pymnt_plan                    0.00 \n",
      "url                           0.00 \n",
      "desc                          32.58\n",
      "purpose                       0.00 \n",
      "title                         0.03 \n",
      "zip_code                      0.00 \n",
      "addr_state                    0.00 \n",
      "dti                           0.00 \n",
      "delinq_2yrs                   0.00 \n",
      "earliest_cr_line              0.00 \n",
      "inq_last_6mths                0.00 \n",
      "open_acc                      0.00 \n",
      "pub_rec                       0.00 \n",
      "revol_bal                     0.00 \n",
      "revol_util                    0.13 \n",
      "total_acc                     0.00 \n",
      "initial_list_status           0.00 \n",
      "out_prncp                     0.00 \n",
      "out_prncp_inv                 0.00 \n",
      "total_pymnt                   0.00 \n",
      "total_pymnt_inv               0.00 \n",
      "total_rec_prncp               0.00 \n",
      "total_rec_int                 0.00 \n",
      "total_rec_late_fee            0.00 \n",
      "recoveries                    0.00 \n",
      "collection_recovery_fee       0.00 \n",
      "last_pymnt_d                  0.18 \n",
      "last_pymnt_amnt               0.00 \n",
      "last_credit_pull_d            0.01 \n",
      "collections_12_mths_ex_med    0.14 \n",
      "policy_code                   0.00 \n",
      "application_type              0.00 \n",
      "acc_now_delinq                0.00 \n",
      "chargeoff_within_12_mths      0.14 \n",
      "delinq_amnt                   0.00 \n",
      "pub_rec_bankruptcies          1.75 \n",
      "tax_liens                     0.10 \n",
      "dtype: float64\n"
     ]
    }
   ],
   "source": [
    "print_missing_value_percentage(cleanedup_loan_data)"
   ]
  },
  {
   "cell_type": "code",
   "execution_count": 10,
   "metadata": {},
   "outputs": [
    {
     "data": {
      "text/plain": [
       "0      Borrower added on 12/22/11 > I need to upgrade my business technologies.<br>                                                                                                                                                                                                                                                                                                                                                                                                                                                                                                                                \n",
       "1      Borrower added on 12/22/11 > I plan to use this money to finance the motorcycle i am looking at. I plan to have it paid off as soon as possible/when i sell my old bike. I only need this money because the deal im looking at is to good to pass up.<br><br>  Borrower added on 12/22/11 > I plan to use this money to finance the motorcycle i am looking at. I plan to have it paid off as soon as possible/when i sell my old bike.I only need this money because the deal im looking at is to good to pass up. I have finished college with an associates degree in business and its takingmeplaces<br>\n",
       "2    NaN                                                                                                                                                                                                                                                                                                                                                                                                                                                                                                                                                                                                           \n",
       "3      Borrower added on 12/21/11 > to pay for property tax (borrow from friend, need to pay back) & central A/C need to be replace. I'm very sorry to let my loan expired last time.<br>                                                                                                                                                                                                                                                                                                                                                                                                                          \n",
       "4      Borrower added on 12/21/11 > I plan on combining three large interest bills together and freeing up some extra each month to pay toward other bills.  I've always been a good payor but have found myself needing to make adjustments to my budget due to a medical scare. My job is very stable, I love it.<br>                                                                                                                                                                                                                                                                                            \n",
       "Name: desc, dtype: object"
      ]
     },
     "execution_count": 10,
     "metadata": {},
     "output_type": "execute_result"
    }
   ],
   "source": [
    "cleanedup_loan_data['desc'].head()"
   ]
  },
  {
   "cell_type": "code",
   "execution_count": 12,
   "metadata": {},
   "outputs": [],
   "source": [
    "# at this point dont know about textual analysis,\n",
    "# and the missing percentage is also high - 32.58%, \n",
    "# lets drop description columns as well\n",
    "cleanedup_loan_data.drop(columns=['desc'], axis=1, inplace=True)"
   ]
  },
  {
   "cell_type": "code",
   "execution_count": 25,
   "metadata": {
    "scrolled": true
   },
   "outputs": [
    {
     "name": "stdout",
     "output_type": "stream",
     "text": [
      "0    NaN                     \n",
      "1    Ryder                   \n",
      "2    NaN                     \n",
      "3    AIR RESOURCES BOARD     \n",
      "4    University Medical Group\n",
      "Name: emp_title, dtype: object\n",
      "% of unique emp_title: 73\n"
     ]
    }
   ],
   "source": [
    "# let look at emp_title with 6.19% missing values\n",
    "print(cleanedup_loan_data['emp_title'].head())\n",
    "print('% of unique emp_title:', round(100*(cleanedup_loan_data['emp_title'].nunique() / len(cleanedup_loan_data.index))))\n",
    "\n",
    "# the number of unique values is high - 73%, if we are considering employer columns, then drop missing rows"
   ]
  },
  {
   "cell_type": "code",
   "execution_count": 28,
   "metadata": {},
   "outputs": [
    {
     "data": {
      "text/html": [
       "<div>\n",
       "<style scoped>\n",
       "    .dataframe tbody tr th:only-of-type {\n",
       "        vertical-align: middle;\n",
       "    }\n",
       "\n",
       "    .dataframe tbody tr th {\n",
       "        vertical-align: top;\n",
       "    }\n",
       "\n",
       "    .dataframe thead th {\n",
       "        text-align: right;\n",
       "    }\n",
       "</style>\n",
       "<table border=\"1\" class=\"dataframe\">\n",
       "  <thead>\n",
       "    <tr style=\"text-align: right;\">\n",
       "      <th></th>\n",
       "      <th>grade</th>\n",
       "      <th>sub_grade</th>\n",
       "    </tr>\n",
       "  </thead>\n",
       "  <tbody>\n",
       "    <tr>\n",
       "      <th>0</th>\n",
       "      <td>B</td>\n",
       "      <td>B2</td>\n",
       "    </tr>\n",
       "    <tr>\n",
       "      <th>1</th>\n",
       "      <td>C</td>\n",
       "      <td>C4</td>\n",
       "    </tr>\n",
       "    <tr>\n",
       "      <th>2</th>\n",
       "      <td>C</td>\n",
       "      <td>C5</td>\n",
       "    </tr>\n",
       "    <tr>\n",
       "      <th>3</th>\n",
       "      <td>C</td>\n",
       "      <td>C1</td>\n",
       "    </tr>\n",
       "    <tr>\n",
       "      <th>4</th>\n",
       "      <td>B</td>\n",
       "      <td>B5</td>\n",
       "    </tr>\n",
       "  </tbody>\n",
       "</table>\n",
       "</div>"
      ],
      "text/plain": [
       "  grade sub_grade\n",
       "0  B     B2      \n",
       "1  C     C4      \n",
       "2  C     C5      \n",
       "3  C     C1      \n",
       "4  B     B5      "
      ]
     },
     "execution_count": 28,
     "metadata": {},
     "output_type": "execute_result"
    }
   ],
   "source": [
    "# drop potentially irrelevant columns\n",
    "# id, member_id - doesnt make sense for the problem statement\n",
    "# funded_amnt, funded_amnt_inv - not required as we have loan_amnt\n",
    "# \n",
    "cleanedup_loan_data[['grade', 'sub_grade']].head()"
   ]
  }
 ],
 "metadata": {
  "kernelspec": {
   "display_name": "Python 3",
   "language": "python",
   "name": "python3"
  },
  "language_info": {
   "codemirror_mode": {
    "name": "ipython",
    "version": 3
   },
   "file_extension": ".py",
   "mimetype": "text/x-python",
   "name": "python",
   "nbconvert_exporter": "python",
   "pygments_lexer": "ipython3",
   "version": "3.7.3"
  }
 },
 "nbformat": 4,
 "nbformat_minor": 2
}
