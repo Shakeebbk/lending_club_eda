{
 "cells": [
  {
   "cell_type": "markdown",
   "metadata": {},
   "source": [
    "# Lending Club Analysis\n",
    "\n",
    "### <font color='Maroon'>Analysis Working sheet by Shakeeb Pasha and Vishal Khera</font>"
   ]
  },
  {
   "cell_type": "code",
   "execution_count": 23,
   "metadata": {},
   "outputs": [],
   "source": [
    "# Importing the libraries needed for the analysis\n",
    "import numpy as np\n",
    "import pandas as pd\n",
    "import matplotlib.pyplot as plt\n",
    "\n",
    "\n",
    "# Setup environmental parameters\n",
    "pd.set_option('display.max_colwidth', -1)\n",
    "pd.set_option('display.max_rows', 150)"
   ]
  },
  {
   "cell_type": "code",
   "execution_count": 24,
   "metadata": {},
   "outputs": [
    {
     "data": {
      "text/html": [
       "<div>\n",
       "<style scoped>\n",
       "    .dataframe tbody tr th:only-of-type {\n",
       "        vertical-align: middle;\n",
       "    }\n",
       "\n",
       "    .dataframe tbody tr th {\n",
       "        vertical-align: top;\n",
       "    }\n",
       "\n",
       "    .dataframe thead th {\n",
       "        text-align: right;\n",
       "    }\n",
       "</style>\n",
       "<table border=\"1\" class=\"dataframe\">\n",
       "  <thead>\n",
       "    <tr style=\"text-align: right;\">\n",
       "      <th></th>\n",
       "      <th>id</th>\n",
       "      <th>member_id</th>\n",
       "      <th>loan_amnt</th>\n",
       "      <th>funded_amnt</th>\n",
       "      <th>funded_amnt_inv</th>\n",
       "      <th>term</th>\n",
       "      <th>int_rate</th>\n",
       "      <th>installment</th>\n",
       "      <th>grade</th>\n",
       "      <th>sub_grade</th>\n",
       "      <th>...</th>\n",
       "      <th>num_tl_90g_dpd_24m</th>\n",
       "      <th>num_tl_op_past_12m</th>\n",
       "      <th>pct_tl_nvr_dlq</th>\n",
       "      <th>percent_bc_gt_75</th>\n",
       "      <th>pub_rec_bankruptcies</th>\n",
       "      <th>tax_liens</th>\n",
       "      <th>tot_hi_cred_lim</th>\n",
       "      <th>total_bal_ex_mort</th>\n",
       "      <th>total_bc_limit</th>\n",
       "      <th>total_il_high_credit_limit</th>\n",
       "    </tr>\n",
       "  </thead>\n",
       "  <tbody>\n",
       "    <tr>\n",
       "      <td>0</td>\n",
       "      <td>1077501</td>\n",
       "      <td>1296599</td>\n",
       "      <td>5000</td>\n",
       "      <td>5000</td>\n",
       "      <td>4975.0</td>\n",
       "      <td>36 months</td>\n",
       "      <td>10.65%</td>\n",
       "      <td>162.87</td>\n",
       "      <td>B</td>\n",
       "      <td>B2</td>\n",
       "      <td>...</td>\n",
       "      <td>NaN</td>\n",
       "      <td>NaN</td>\n",
       "      <td>NaN</td>\n",
       "      <td>NaN</td>\n",
       "      <td>0.0</td>\n",
       "      <td>0.0</td>\n",
       "      <td>NaN</td>\n",
       "      <td>NaN</td>\n",
       "      <td>NaN</td>\n",
       "      <td>NaN</td>\n",
       "    </tr>\n",
       "    <tr>\n",
       "      <td>1</td>\n",
       "      <td>1077430</td>\n",
       "      <td>1314167</td>\n",
       "      <td>2500</td>\n",
       "      <td>2500</td>\n",
       "      <td>2500.0</td>\n",
       "      <td>60 months</td>\n",
       "      <td>15.27%</td>\n",
       "      <td>59.83</td>\n",
       "      <td>C</td>\n",
       "      <td>C4</td>\n",
       "      <td>...</td>\n",
       "      <td>NaN</td>\n",
       "      <td>NaN</td>\n",
       "      <td>NaN</td>\n",
       "      <td>NaN</td>\n",
       "      <td>0.0</td>\n",
       "      <td>0.0</td>\n",
       "      <td>NaN</td>\n",
       "      <td>NaN</td>\n",
       "      <td>NaN</td>\n",
       "      <td>NaN</td>\n",
       "    </tr>\n",
       "    <tr>\n",
       "      <td>2</td>\n",
       "      <td>1077175</td>\n",
       "      <td>1313524</td>\n",
       "      <td>2400</td>\n",
       "      <td>2400</td>\n",
       "      <td>2400.0</td>\n",
       "      <td>36 months</td>\n",
       "      <td>15.96%</td>\n",
       "      <td>84.33</td>\n",
       "      <td>C</td>\n",
       "      <td>C5</td>\n",
       "      <td>...</td>\n",
       "      <td>NaN</td>\n",
       "      <td>NaN</td>\n",
       "      <td>NaN</td>\n",
       "      <td>NaN</td>\n",
       "      <td>0.0</td>\n",
       "      <td>0.0</td>\n",
       "      <td>NaN</td>\n",
       "      <td>NaN</td>\n",
       "      <td>NaN</td>\n",
       "      <td>NaN</td>\n",
       "    </tr>\n",
       "    <tr>\n",
       "      <td>3</td>\n",
       "      <td>1076863</td>\n",
       "      <td>1277178</td>\n",
       "      <td>10000</td>\n",
       "      <td>10000</td>\n",
       "      <td>10000.0</td>\n",
       "      <td>36 months</td>\n",
       "      <td>13.49%</td>\n",
       "      <td>339.31</td>\n",
       "      <td>C</td>\n",
       "      <td>C1</td>\n",
       "      <td>...</td>\n",
       "      <td>NaN</td>\n",
       "      <td>NaN</td>\n",
       "      <td>NaN</td>\n",
       "      <td>NaN</td>\n",
       "      <td>0.0</td>\n",
       "      <td>0.0</td>\n",
       "      <td>NaN</td>\n",
       "      <td>NaN</td>\n",
       "      <td>NaN</td>\n",
       "      <td>NaN</td>\n",
       "    </tr>\n",
       "    <tr>\n",
       "      <td>4</td>\n",
       "      <td>1075358</td>\n",
       "      <td>1311748</td>\n",
       "      <td>3000</td>\n",
       "      <td>3000</td>\n",
       "      <td>3000.0</td>\n",
       "      <td>60 months</td>\n",
       "      <td>12.69%</td>\n",
       "      <td>67.79</td>\n",
       "      <td>B</td>\n",
       "      <td>B5</td>\n",
       "      <td>...</td>\n",
       "      <td>NaN</td>\n",
       "      <td>NaN</td>\n",
       "      <td>NaN</td>\n",
       "      <td>NaN</td>\n",
       "      <td>0.0</td>\n",
       "      <td>0.0</td>\n",
       "      <td>NaN</td>\n",
       "      <td>NaN</td>\n",
       "      <td>NaN</td>\n",
       "      <td>NaN</td>\n",
       "    </tr>\n",
       "  </tbody>\n",
       "</table>\n",
       "<p>5 rows × 111 columns</p>\n",
       "</div>"
      ],
      "text/plain": [
       "        id  member_id  loan_amnt  funded_amnt  funded_amnt_inv        term  \\\n",
       "0  1077501  1296599    5000       5000         4975.0            36 months   \n",
       "1  1077430  1314167    2500       2500         2500.0            60 months   \n",
       "2  1077175  1313524    2400       2400         2400.0            36 months   \n",
       "3  1076863  1277178    10000      10000        10000.0           36 months   \n",
       "4  1075358  1311748    3000       3000         3000.0            60 months   \n",
       "\n",
       "  int_rate  installment grade sub_grade  ... num_tl_90g_dpd_24m  \\\n",
       "0  10.65%   162.87       B     B2        ... NaN                  \n",
       "1  15.27%   59.83        C     C4        ... NaN                  \n",
       "2  15.96%   84.33        C     C5        ... NaN                  \n",
       "3  13.49%   339.31       C     C1        ... NaN                  \n",
       "4  12.69%   67.79        B     B5        ... NaN                  \n",
       "\n",
       "  num_tl_op_past_12m pct_tl_nvr_dlq  percent_bc_gt_75 pub_rec_bankruptcies  \\\n",
       "0 NaN                NaN            NaN                0.0                   \n",
       "1 NaN                NaN            NaN                0.0                   \n",
       "2 NaN                NaN            NaN                0.0                   \n",
       "3 NaN                NaN            NaN                0.0                   \n",
       "4 NaN                NaN            NaN                0.0                   \n",
       "\n",
       "  tax_liens tot_hi_cred_lim total_bal_ex_mort total_bc_limit  \\\n",
       "0  0.0      NaN             NaN               NaN              \n",
       "1  0.0      NaN             NaN               NaN              \n",
       "2  0.0      NaN             NaN               NaN              \n",
       "3  0.0      NaN             NaN               NaN              \n",
       "4  0.0      NaN             NaN               NaN              \n",
       "\n",
       "  total_il_high_credit_limit  \n",
       "0 NaN                         \n",
       "1 NaN                         \n",
       "2 NaN                         \n",
       "3 NaN                         \n",
       "4 NaN                         \n",
       "\n",
       "[5 rows x 111 columns]"
      ]
     },
     "execution_count": 24,
     "metadata": {},
     "output_type": "execute_result"
    }
   ],
   "source": [
    "# Loading the file provided\n",
    "loan_data = pd.read_csv('loan/loan.csv', low_memory=False)\n",
    "loan_data.head()"
   ]
  },
  {
   "cell_type": "code",
   "execution_count": 25,
   "metadata": {},
   "outputs": [
    {
     "data": {
      "text/plain": [
       "(39717, 111)"
      ]
     },
     "execution_count": 25,
     "metadata": {},
     "output_type": "execute_result"
    }
   ],
   "source": [
    "loan_data.shape"
   ]
  },
  {
   "cell_type": "markdown",
   "metadata": {},
   "source": [
    "## Data Cleanup and Understanding"
   ]
  },
  {
   "cell_type": "code",
   "execution_count": 26,
   "metadata": {},
   "outputs": [],
   "source": [
    "# Function to provide missing values % in descending order\n",
    "def print_missing_value_percentage(df):\n",
    "    print(round(100 * (df.isna().sum()/len(df.index)), 2).sort_values(ascending = False))"
   ]
  },
  {
   "cell_type": "code",
   "execution_count": 27,
   "metadata": {},
   "outputs": [
    {
     "name": "stdout",
     "output_type": "stream",
     "text": [
      "No of columns: 111\n",
      "total_il_high_credit_limit        100.00\n",
      "mo_sin_old_rev_tl_op              100.00\n",
      "bc_util                           100.00\n",
      "bc_open_to_buy                    100.00\n",
      "avg_cur_bal                       100.00\n",
      "acc_open_past_24mths              100.00\n",
      "inq_last_12m                      100.00\n",
      "total_cu_tl                       100.00\n",
      "inq_fi                            100.00\n",
      "total_rev_hi_lim                  100.00\n",
      "all_util                          100.00\n",
      "max_bal_bc                        100.00\n",
      "open_rv_24m                       100.00\n",
      "open_rv_12m                       100.00\n",
      "il_util                           100.00\n",
      "total_bal_il                      100.00\n",
      "mths_since_rcnt_il                100.00\n",
      "open_il_24m                       100.00\n",
      "open_il_12m                       100.00\n",
      "open_il_6m                        100.00\n",
      "open_acc_6m                       100.00\n",
      "tot_cur_bal                       100.00\n",
      "tot_coll_amt                      100.00\n",
      "total_bc_limit                    100.00\n",
      "dti_joint                         100.00\n",
      "annual_inc_joint                  100.00\n",
      "mths_since_last_major_derog       100.00\n",
      "mo_sin_old_il_acct                100.00\n",
      "verification_status_joint         100.00\n",
      "mo_sin_rcnt_rev_tl_op             100.00\n",
      "num_il_tl                         100.00\n",
      "mo_sin_rcnt_tl                    100.00\n",
      "total_bal_ex_mort                 100.00\n",
      "tot_hi_cred_lim                   100.00\n",
      "percent_bc_gt_75                  100.00\n",
      "pct_tl_nvr_dlq                    100.00\n",
      "num_tl_90g_dpd_24m                100.00\n",
      "num_tl_30dpd                      100.00\n",
      "num_tl_120dpd_2m                  100.00\n",
      "num_sats                          100.00\n",
      "num_rev_tl_bal_gt_0               100.00\n",
      "num_rev_accts                     100.00\n",
      "num_op_rev_tl                     100.00\n",
      "num_tl_op_past_12m                100.00\n",
      "num_bc_tl                         100.00\n",
      "mort_acc                          100.00\n",
      "num_actv_rev_tl                   100.00\n",
      "num_actv_bc_tl                    100.00\n",
      "num_accts_ever_120_pd             100.00\n",
      "mths_since_recent_revol_delinq    100.00\n",
      "mths_since_recent_inq             100.00\n",
      "mths_since_recent_bc_dlq          100.00\n",
      "mths_since_recent_bc              100.00\n",
      "num_bc_sats                       100.00\n",
      "next_pymnt_d                      97.13 \n",
      "mths_since_last_record            92.99 \n",
      "mths_since_last_delinq            64.66 \n",
      "desc                              32.58 \n",
      "emp_title                         6.19  \n",
      "emp_length                        2.71  \n",
      "pub_rec_bankruptcies              1.75  \n",
      "last_pymnt_d                      0.18  \n",
      "chargeoff_within_12_mths          0.14  \n",
      "collections_12_mths_ex_med        0.14  \n",
      "revol_util                        0.13  \n",
      "tax_liens                         0.10  \n",
      "title                             0.03  \n",
      "last_credit_pull_d                0.01  \n",
      "url                               0.00  \n",
      "pymnt_plan                        0.00  \n",
      "loan_status                       0.00  \n",
      "verification_status               0.00  \n",
      "purpose                           0.00  \n",
      "issue_d                           0.00  \n",
      "funded_amnt                       0.00  \n",
      "annual_inc                        0.00  \n",
      "home_ownership                    0.00  \n",
      "sub_grade                         0.00  \n",
      "grade                             0.00  \n",
      "installment                       0.00  \n",
      "int_rate                          0.00  \n",
      "term                              0.00  \n",
      "funded_amnt_inv                   0.00  \n",
      "addr_state                        0.00  \n",
      "loan_amnt                         0.00  \n",
      "member_id                         0.00  \n",
      "zip_code                          0.00  \n",
      "total_rec_prncp                   0.00  \n",
      "dti                               0.00  \n",
      "total_pymnt_inv                   0.00  \n",
      "delinq_amnt                       0.00  \n",
      "acc_now_delinq                    0.00  \n",
      "application_type                  0.00  \n",
      "policy_code                       0.00  \n",
      "last_pymnt_amnt                   0.00  \n",
      "collection_recovery_fee           0.00  \n",
      "recoveries                        0.00  \n",
      "total_rec_late_fee                0.00  \n",
      "total_rec_int                     0.00  \n",
      "total_pymnt                       0.00  \n",
      "delinq_2yrs                       0.00  \n",
      "out_prncp_inv                     0.00  \n",
      "out_prncp                         0.00  \n",
      "initial_list_status               0.00  \n",
      "total_acc                         0.00  \n",
      "revol_bal                         0.00  \n",
      "pub_rec                           0.00  \n",
      "open_acc                          0.00  \n",
      "inq_last_6mths                    0.00  \n",
      "earliest_cr_line                  0.00  \n",
      "id                                0.00  \n",
      "dtype: float64\n"
     ]
    }
   ],
   "source": [
    "print('No of columns:', len(loan_data.columns))\n",
    "print_missing_value_percentage(loan_data)"
   ]
  },
  {
   "cell_type": "code",
   "execution_count": 28,
   "metadata": {
    "scrolled": true
   },
   "outputs": [
    {
     "name": "stdout",
     "output_type": "stream",
     "text": [
      "No of columns after dropping columns with 100% missing values: 57\n"
     ]
    }
   ],
   "source": [
    "# drop columns with 100% missing na values\n",
    "cleanedup_loan_data = loan_data.dropna(how='all', axis=1, inplace=False)\n",
    "print('No of columns after dropping columns with 100% missing values:', len(cleanedup_loan_data.columns))"
   ]
  },
  {
   "cell_type": "code",
   "execution_count": 29,
   "metadata": {},
   "outputs": [
    {
     "data": {
      "text/html": [
       "<div>\n",
       "<style scoped>\n",
       "    .dataframe tbody tr th:only-of-type {\n",
       "        vertical-align: middle;\n",
       "    }\n",
       "\n",
       "    .dataframe tbody tr th {\n",
       "        vertical-align: top;\n",
       "    }\n",
       "\n",
       "    .dataframe thead th {\n",
       "        text-align: right;\n",
       "    }\n",
       "</style>\n",
       "<table border=\"1\" class=\"dataframe\">\n",
       "  <thead>\n",
       "    <tr style=\"text-align: right;\">\n",
       "      <th></th>\n",
       "      <th>id</th>\n",
       "      <th>member_id</th>\n",
       "      <th>loan_amnt</th>\n",
       "      <th>funded_amnt</th>\n",
       "      <th>funded_amnt_inv</th>\n",
       "      <th>installment</th>\n",
       "      <th>annual_inc</th>\n",
       "      <th>dti</th>\n",
       "      <th>delinq_2yrs</th>\n",
       "      <th>inq_last_6mths</th>\n",
       "      <th>...</th>\n",
       "      <th>recoveries</th>\n",
       "      <th>collection_recovery_fee</th>\n",
       "      <th>last_pymnt_amnt</th>\n",
       "      <th>collections_12_mths_ex_med</th>\n",
       "      <th>policy_code</th>\n",
       "      <th>acc_now_delinq</th>\n",
       "      <th>chargeoff_within_12_mths</th>\n",
       "      <th>delinq_amnt</th>\n",
       "      <th>pub_rec_bankruptcies</th>\n",
       "      <th>tax_liens</th>\n",
       "    </tr>\n",
       "  </thead>\n",
       "  <tbody>\n",
       "    <tr>\n",
       "      <td>count</td>\n",
       "      <td>3.971700e+04</td>\n",
       "      <td>3.971700e+04</td>\n",
       "      <td>39717.000000</td>\n",
       "      <td>39717.000000</td>\n",
       "      <td>39717.000000</td>\n",
       "      <td>39717.000000</td>\n",
       "      <td>3.971700e+04</td>\n",
       "      <td>39717.000000</td>\n",
       "      <td>39717.000000</td>\n",
       "      <td>39717.000000</td>\n",
       "      <td>...</td>\n",
       "      <td>39717.000000</td>\n",
       "      <td>39717.000000</td>\n",
       "      <td>39717.000000</td>\n",
       "      <td>39661.0</td>\n",
       "      <td>39717.0</td>\n",
       "      <td>39717.0</td>\n",
       "      <td>39661.0</td>\n",
       "      <td>39717.0</td>\n",
       "      <td>39020.000000</td>\n",
       "      <td>39678.0</td>\n",
       "    </tr>\n",
       "    <tr>\n",
       "      <td>mean</td>\n",
       "      <td>6.831319e+05</td>\n",
       "      <td>8.504636e+05</td>\n",
       "      <td>11219.443815</td>\n",
       "      <td>10947.713196</td>\n",
       "      <td>10397.448868</td>\n",
       "      <td>324.561922</td>\n",
       "      <td>6.896893e+04</td>\n",
       "      <td>13.315130</td>\n",
       "      <td>0.146512</td>\n",
       "      <td>0.869200</td>\n",
       "      <td>...</td>\n",
       "      <td>95.221624</td>\n",
       "      <td>12.406112</td>\n",
       "      <td>2678.826162</td>\n",
       "      <td>0.0</td>\n",
       "      <td>1.0</td>\n",
       "      <td>0.0</td>\n",
       "      <td>0.0</td>\n",
       "      <td>0.0</td>\n",
       "      <td>0.043260</td>\n",
       "      <td>0.0</td>\n",
       "    </tr>\n",
       "    <tr>\n",
       "      <td>std</td>\n",
       "      <td>2.106941e+05</td>\n",
       "      <td>2.656783e+05</td>\n",
       "      <td>7456.670694</td>\n",
       "      <td>7187.238670</td>\n",
       "      <td>7128.450439</td>\n",
       "      <td>208.874874</td>\n",
       "      <td>6.379377e+04</td>\n",
       "      <td>6.678594</td>\n",
       "      <td>0.491812</td>\n",
       "      <td>1.070219</td>\n",
       "      <td>...</td>\n",
       "      <td>688.744771</td>\n",
       "      <td>148.671593</td>\n",
       "      <td>4447.136012</td>\n",
       "      <td>0.0</td>\n",
       "      <td>0.0</td>\n",
       "      <td>0.0</td>\n",
       "      <td>0.0</td>\n",
       "      <td>0.0</td>\n",
       "      <td>0.204324</td>\n",
       "      <td>0.0</td>\n",
       "    </tr>\n",
       "    <tr>\n",
       "      <td>min</td>\n",
       "      <td>5.473400e+04</td>\n",
       "      <td>7.069900e+04</td>\n",
       "      <td>500.000000</td>\n",
       "      <td>500.000000</td>\n",
       "      <td>0.000000</td>\n",
       "      <td>15.690000</td>\n",
       "      <td>4.000000e+03</td>\n",
       "      <td>0.000000</td>\n",
       "      <td>0.000000</td>\n",
       "      <td>0.000000</td>\n",
       "      <td>...</td>\n",
       "      <td>0.000000</td>\n",
       "      <td>0.000000</td>\n",
       "      <td>0.000000</td>\n",
       "      <td>0.0</td>\n",
       "      <td>1.0</td>\n",
       "      <td>0.0</td>\n",
       "      <td>0.0</td>\n",
       "      <td>0.0</td>\n",
       "      <td>0.000000</td>\n",
       "      <td>0.0</td>\n",
       "    </tr>\n",
       "    <tr>\n",
       "      <td>25%</td>\n",
       "      <td>5.162210e+05</td>\n",
       "      <td>6.667800e+05</td>\n",
       "      <td>5500.000000</td>\n",
       "      <td>5400.000000</td>\n",
       "      <td>5000.000000</td>\n",
       "      <td>167.020000</td>\n",
       "      <td>4.040400e+04</td>\n",
       "      <td>8.170000</td>\n",
       "      <td>0.000000</td>\n",
       "      <td>0.000000</td>\n",
       "      <td>...</td>\n",
       "      <td>0.000000</td>\n",
       "      <td>0.000000</td>\n",
       "      <td>218.680000</td>\n",
       "      <td>0.0</td>\n",
       "      <td>1.0</td>\n",
       "      <td>0.0</td>\n",
       "      <td>0.0</td>\n",
       "      <td>0.0</td>\n",
       "      <td>0.000000</td>\n",
       "      <td>0.0</td>\n",
       "    </tr>\n",
       "    <tr>\n",
       "      <td>50%</td>\n",
       "      <td>6.656650e+05</td>\n",
       "      <td>8.508120e+05</td>\n",
       "      <td>10000.000000</td>\n",
       "      <td>9600.000000</td>\n",
       "      <td>8975.000000</td>\n",
       "      <td>280.220000</td>\n",
       "      <td>5.900000e+04</td>\n",
       "      <td>13.400000</td>\n",
       "      <td>0.000000</td>\n",
       "      <td>1.000000</td>\n",
       "      <td>...</td>\n",
       "      <td>0.000000</td>\n",
       "      <td>0.000000</td>\n",
       "      <td>546.140000</td>\n",
       "      <td>0.0</td>\n",
       "      <td>1.0</td>\n",
       "      <td>0.0</td>\n",
       "      <td>0.0</td>\n",
       "      <td>0.0</td>\n",
       "      <td>0.000000</td>\n",
       "      <td>0.0</td>\n",
       "    </tr>\n",
       "    <tr>\n",
       "      <td>75%</td>\n",
       "      <td>8.377550e+05</td>\n",
       "      <td>1.047339e+06</td>\n",
       "      <td>15000.000000</td>\n",
       "      <td>15000.000000</td>\n",
       "      <td>14400.000000</td>\n",
       "      <td>430.780000</td>\n",
       "      <td>8.230000e+04</td>\n",
       "      <td>18.600000</td>\n",
       "      <td>0.000000</td>\n",
       "      <td>1.000000</td>\n",
       "      <td>...</td>\n",
       "      <td>0.000000</td>\n",
       "      <td>0.000000</td>\n",
       "      <td>3293.160000</td>\n",
       "      <td>0.0</td>\n",
       "      <td>1.0</td>\n",
       "      <td>0.0</td>\n",
       "      <td>0.0</td>\n",
       "      <td>0.0</td>\n",
       "      <td>0.000000</td>\n",
       "      <td>0.0</td>\n",
       "    </tr>\n",
       "    <tr>\n",
       "      <td>max</td>\n",
       "      <td>1.077501e+06</td>\n",
       "      <td>1.314167e+06</td>\n",
       "      <td>35000.000000</td>\n",
       "      <td>35000.000000</td>\n",
       "      <td>35000.000000</td>\n",
       "      <td>1305.190000</td>\n",
       "      <td>6.000000e+06</td>\n",
       "      <td>29.990000</td>\n",
       "      <td>11.000000</td>\n",
       "      <td>8.000000</td>\n",
       "      <td>...</td>\n",
       "      <td>29623.350000</td>\n",
       "      <td>7002.190000</td>\n",
       "      <td>36115.200000</td>\n",
       "      <td>0.0</td>\n",
       "      <td>1.0</td>\n",
       "      <td>0.0</td>\n",
       "      <td>0.0</td>\n",
       "      <td>0.0</td>\n",
       "      <td>2.000000</td>\n",
       "      <td>0.0</td>\n",
       "    </tr>\n",
       "  </tbody>\n",
       "</table>\n",
       "<p>8 rows × 33 columns</p>\n",
       "</div>"
      ],
      "text/plain": [
       "                 id     member_id     loan_amnt   funded_amnt  \\\n",
       "count  3.971700e+04  3.971700e+04  39717.000000  39717.000000   \n",
       "mean   6.831319e+05  8.504636e+05  11219.443815  10947.713196   \n",
       "std    2.106941e+05  2.656783e+05  7456.670694   7187.238670    \n",
       "min    5.473400e+04  7.069900e+04  500.000000    500.000000     \n",
       "25%    5.162210e+05  6.667800e+05  5500.000000   5400.000000    \n",
       "50%    6.656650e+05  8.508120e+05  10000.000000  9600.000000    \n",
       "75%    8.377550e+05  1.047339e+06  15000.000000  15000.000000   \n",
       "max    1.077501e+06  1.314167e+06  35000.000000  35000.000000   \n",
       "\n",
       "       funded_amnt_inv   installment    annual_inc           dti  \\\n",
       "count  39717.000000     39717.000000  3.971700e+04  39717.000000   \n",
       "mean   10397.448868     324.561922    6.896893e+04  13.315130      \n",
       "std    7128.450439      208.874874    6.379377e+04  6.678594       \n",
       "min    0.000000         15.690000     4.000000e+03  0.000000       \n",
       "25%    5000.000000      167.020000    4.040400e+04  8.170000       \n",
       "50%    8975.000000      280.220000    5.900000e+04  13.400000      \n",
       "75%    14400.000000     430.780000    8.230000e+04  18.600000      \n",
       "max    35000.000000     1305.190000   6.000000e+06  29.990000      \n",
       "\n",
       "        delinq_2yrs  inq_last_6mths  ...    recoveries  \\\n",
       "count  39717.000000  39717.000000    ...  39717.000000   \n",
       "mean   0.146512      0.869200        ...  95.221624      \n",
       "std    0.491812      1.070219        ...  688.744771     \n",
       "min    0.000000      0.000000        ...  0.000000       \n",
       "25%    0.000000      0.000000        ...  0.000000       \n",
       "50%    0.000000      1.000000        ...  0.000000       \n",
       "75%    0.000000      1.000000        ...  0.000000       \n",
       "max    11.000000     8.000000        ...  29623.350000   \n",
       "\n",
       "       collection_recovery_fee  last_pymnt_amnt  collections_12_mths_ex_med  \\\n",
       "count  39717.000000             39717.000000     39661.0                      \n",
       "mean   12.406112                2678.826162      0.0                          \n",
       "std    148.671593               4447.136012      0.0                          \n",
       "min    0.000000                 0.000000         0.0                          \n",
       "25%    0.000000                 218.680000       0.0                          \n",
       "50%    0.000000                 546.140000       0.0                          \n",
       "75%    0.000000                 3293.160000      0.0                          \n",
       "max    7002.190000              36115.200000     0.0                          \n",
       "\n",
       "       policy_code  acc_now_delinq  chargeoff_within_12_mths  delinq_amnt  \\\n",
       "count  39717.0      39717.0         39661.0                   39717.0       \n",
       "mean   1.0          0.0             0.0                       0.0           \n",
       "std    0.0          0.0             0.0                       0.0           \n",
       "min    1.0          0.0             0.0                       0.0           \n",
       "25%    1.0          0.0             0.0                       0.0           \n",
       "50%    1.0          0.0             0.0                       0.0           \n",
       "75%    1.0          0.0             0.0                       0.0           \n",
       "max    1.0          0.0             0.0                       0.0           \n",
       "\n",
       "       pub_rec_bankruptcies  tax_liens  \n",
       "count  39020.000000          39678.0    \n",
       "mean   0.043260              0.0        \n",
       "std    0.204324              0.0        \n",
       "min    0.000000              0.0        \n",
       "25%    0.000000              0.0        \n",
       "50%    0.000000              0.0        \n",
       "75%    0.000000              0.0        \n",
       "max    2.000000              0.0        \n",
       "\n",
       "[8 rows x 33 columns]"
      ]
     },
     "execution_count": 29,
     "metadata": {},
     "output_type": "execute_result"
    }
   ],
   "source": [
    "# Lets check on the columns that have data - the quality of the data\n",
    "cleanedup_loan_data.describe()"
   ]
  },
  {
   "cell_type": "code",
   "execution_count": 30,
   "metadata": {},
   "outputs": [
    {
     "data": {
      "text/html": [
       "<div>\n",
       "<style scoped>\n",
       "    .dataframe tbody tr th:only-of-type {\n",
       "        vertical-align: middle;\n",
       "    }\n",
       "\n",
       "    .dataframe tbody tr th {\n",
       "        vertical-align: top;\n",
       "    }\n",
       "\n",
       "    .dataframe thead th {\n",
       "        text-align: right;\n",
       "    }\n",
       "</style>\n",
       "<table border=\"1\" class=\"dataframe\">\n",
       "  <thead>\n",
       "    <tr style=\"text-align: right;\">\n",
       "      <th></th>\n",
       "      <th>id</th>\n",
       "      <th>member_id</th>\n",
       "      <th>loan_amnt</th>\n",
       "      <th>funded_amnt</th>\n",
       "      <th>funded_amnt_inv</th>\n",
       "      <th>term</th>\n",
       "      <th>int_rate</th>\n",
       "      <th>installment</th>\n",
       "      <th>grade</th>\n",
       "      <th>sub_grade</th>\n",
       "      <th>...</th>\n",
       "      <th>total_rec_late_fee</th>\n",
       "      <th>recoveries</th>\n",
       "      <th>collection_recovery_fee</th>\n",
       "      <th>last_pymnt_d</th>\n",
       "      <th>last_pymnt_amnt</th>\n",
       "      <th>next_pymnt_d</th>\n",
       "      <th>last_credit_pull_d</th>\n",
       "      <th>policy_code</th>\n",
       "      <th>application_type</th>\n",
       "      <th>pub_rec_bankruptcies</th>\n",
       "    </tr>\n",
       "  </thead>\n",
       "  <tbody>\n",
       "    <tr>\n",
       "      <td>0</td>\n",
       "      <td>1077501</td>\n",
       "      <td>1296599</td>\n",
       "      <td>5000</td>\n",
       "      <td>5000</td>\n",
       "      <td>4975.0</td>\n",
       "      <td>36 months</td>\n",
       "      <td>10.65%</td>\n",
       "      <td>162.87</td>\n",
       "      <td>B</td>\n",
       "      <td>B2</td>\n",
       "      <td>...</td>\n",
       "      <td>0.00</td>\n",
       "      <td>0.00</td>\n",
       "      <td>0.00</td>\n",
       "      <td>Jan-15</td>\n",
       "      <td>171.62</td>\n",
       "      <td>NaN</td>\n",
       "      <td>May-16</td>\n",
       "      <td>1</td>\n",
       "      <td>INDIVIDUAL</td>\n",
       "      <td>0.0</td>\n",
       "    </tr>\n",
       "    <tr>\n",
       "      <td>1</td>\n",
       "      <td>1077430</td>\n",
       "      <td>1314167</td>\n",
       "      <td>2500</td>\n",
       "      <td>2500</td>\n",
       "      <td>2500.0</td>\n",
       "      <td>60 months</td>\n",
       "      <td>15.27%</td>\n",
       "      <td>59.83</td>\n",
       "      <td>C</td>\n",
       "      <td>C4</td>\n",
       "      <td>...</td>\n",
       "      <td>0.00</td>\n",
       "      <td>117.08</td>\n",
       "      <td>1.11</td>\n",
       "      <td>Apr-13</td>\n",
       "      <td>119.66</td>\n",
       "      <td>NaN</td>\n",
       "      <td>Sep-13</td>\n",
       "      <td>1</td>\n",
       "      <td>INDIVIDUAL</td>\n",
       "      <td>0.0</td>\n",
       "    </tr>\n",
       "    <tr>\n",
       "      <td>2</td>\n",
       "      <td>1077175</td>\n",
       "      <td>1313524</td>\n",
       "      <td>2400</td>\n",
       "      <td>2400</td>\n",
       "      <td>2400.0</td>\n",
       "      <td>36 months</td>\n",
       "      <td>15.96%</td>\n",
       "      <td>84.33</td>\n",
       "      <td>C</td>\n",
       "      <td>C5</td>\n",
       "      <td>...</td>\n",
       "      <td>0.00</td>\n",
       "      <td>0.00</td>\n",
       "      <td>0.00</td>\n",
       "      <td>Jun-14</td>\n",
       "      <td>649.91</td>\n",
       "      <td>NaN</td>\n",
       "      <td>May-16</td>\n",
       "      <td>1</td>\n",
       "      <td>INDIVIDUAL</td>\n",
       "      <td>0.0</td>\n",
       "    </tr>\n",
       "    <tr>\n",
       "      <td>3</td>\n",
       "      <td>1076863</td>\n",
       "      <td>1277178</td>\n",
       "      <td>10000</td>\n",
       "      <td>10000</td>\n",
       "      <td>10000.0</td>\n",
       "      <td>36 months</td>\n",
       "      <td>13.49%</td>\n",
       "      <td>339.31</td>\n",
       "      <td>C</td>\n",
       "      <td>C1</td>\n",
       "      <td>...</td>\n",
       "      <td>16.97</td>\n",
       "      <td>0.00</td>\n",
       "      <td>0.00</td>\n",
       "      <td>Jan-15</td>\n",
       "      <td>357.48</td>\n",
       "      <td>NaN</td>\n",
       "      <td>Apr-16</td>\n",
       "      <td>1</td>\n",
       "      <td>INDIVIDUAL</td>\n",
       "      <td>0.0</td>\n",
       "    </tr>\n",
       "    <tr>\n",
       "      <td>4</td>\n",
       "      <td>1075358</td>\n",
       "      <td>1311748</td>\n",
       "      <td>3000</td>\n",
       "      <td>3000</td>\n",
       "      <td>3000.0</td>\n",
       "      <td>60 months</td>\n",
       "      <td>12.69%</td>\n",
       "      <td>67.79</td>\n",
       "      <td>B</td>\n",
       "      <td>B5</td>\n",
       "      <td>...</td>\n",
       "      <td>0.00</td>\n",
       "      <td>0.00</td>\n",
       "      <td>0.00</td>\n",
       "      <td>May-16</td>\n",
       "      <td>67.79</td>\n",
       "      <td>Jun-16</td>\n",
       "      <td>May-16</td>\n",
       "      <td>1</td>\n",
       "      <td>INDIVIDUAL</td>\n",
       "      <td>0.0</td>\n",
       "    </tr>\n",
       "  </tbody>\n",
       "</table>\n",
       "<p>5 rows × 52 columns</p>\n",
       "</div>"
      ],
      "text/plain": [
       "        id  member_id  loan_amnt  funded_amnt  funded_amnt_inv        term  \\\n",
       "0  1077501  1296599    5000       5000         4975.0            36 months   \n",
       "1  1077430  1314167    2500       2500         2500.0            60 months   \n",
       "2  1077175  1313524    2400       2400         2400.0            36 months   \n",
       "3  1076863  1277178    10000      10000        10000.0           36 months   \n",
       "4  1075358  1311748    3000       3000         3000.0            60 months   \n",
       "\n",
       "  int_rate  installment grade sub_grade  ... total_rec_late_fee recoveries  \\\n",
       "0  10.65%   162.87       B     B2        ...  0.00               0.00        \n",
       "1  15.27%   59.83        C     C4        ...  0.00               117.08      \n",
       "2  15.96%   84.33        C     C5        ...  0.00               0.00        \n",
       "3  13.49%   339.31       C     C1        ...  16.97              0.00        \n",
       "4  12.69%   67.79        B     B5        ...  0.00               0.00        \n",
       "\n",
       "  collection_recovery_fee  last_pymnt_d last_pymnt_amnt next_pymnt_d  \\\n",
       "0  0.00                    Jan-15        171.62          NaN           \n",
       "1  1.11                    Apr-13        119.66          NaN           \n",
       "2  0.00                    Jun-14        649.91          NaN           \n",
       "3  0.00                    Jan-15        357.48          NaN           \n",
       "4  0.00                    May-16        67.79           Jun-16        \n",
       "\n",
       "  last_credit_pull_d policy_code application_type pub_rec_bankruptcies  \n",
       "0  May-16             1           INDIVIDUAL       0.0                  \n",
       "1  Sep-13             1           INDIVIDUAL       0.0                  \n",
       "2  May-16             1           INDIVIDUAL       0.0                  \n",
       "3  Apr-16             1           INDIVIDUAL       0.0                  \n",
       "4  May-16             1           INDIVIDUAL       0.0                  \n",
       "\n",
       "[5 rows x 52 columns]"
      ]
     },
     "execution_count": 30,
     "metadata": {},
     "output_type": "execute_result"
    }
   ],
   "source": [
    "'''\n",
    "From the above it makes sense to drop \n",
    "#   tax_liens, \n",
    "#   delinq_amnt, \n",
    "#   chargeoff_within_12_mths, \n",
    "#   acc_now_delinq, \n",
    "#   collections_12_mths_ex_med\n",
    "as they all have 0 values for all statistical parameters,\n",
    "which means they all have a 0 value across\n",
    "'''\n",
    "cleanedup_loan_data = cleanedup_loan_data.drop(['tax_liens','delinq_amnt', 'chargeoff_within_12_mths','acc_now_delinq', 'collections_12_mths_ex_med'], axis = 1)\n",
    "cleanedup_loan_data.head()"
   ]
  },
  {
   "cell_type": "code",
   "execution_count": 31,
   "metadata": {},
   "outputs": [
    {
     "data": {
      "text/html": [
       "<div>\n",
       "<style scoped>\n",
       "    .dataframe tbody tr th:only-of-type {\n",
       "        vertical-align: middle;\n",
       "    }\n",
       "\n",
       "    .dataframe tbody tr th {\n",
       "        vertical-align: top;\n",
       "    }\n",
       "\n",
       "    .dataframe thead th {\n",
       "        text-align: right;\n",
       "    }\n",
       "</style>\n",
       "<table border=\"1\" class=\"dataframe\">\n",
       "  <thead>\n",
       "    <tr style=\"text-align: right;\">\n",
       "      <th></th>\n",
       "      <th>pymnt_plan</th>\n",
       "      <th>initial_list_status</th>\n",
       "      <th>policy_code</th>\n",
       "      <th>application_type</th>\n",
       "    </tr>\n",
       "  </thead>\n",
       "  <tbody>\n",
       "    <tr>\n",
       "      <td>0</td>\n",
       "      <td>n</td>\n",
       "      <td>f</td>\n",
       "      <td>1</td>\n",
       "      <td>INDIVIDUAL</td>\n",
       "    </tr>\n",
       "    <tr>\n",
       "      <td>1</td>\n",
       "      <td>n</td>\n",
       "      <td>f</td>\n",
       "      <td>1</td>\n",
       "      <td>INDIVIDUAL</td>\n",
       "    </tr>\n",
       "    <tr>\n",
       "      <td>2</td>\n",
       "      <td>n</td>\n",
       "      <td>f</td>\n",
       "      <td>1</td>\n",
       "      <td>INDIVIDUAL</td>\n",
       "    </tr>\n",
       "    <tr>\n",
       "      <td>3</td>\n",
       "      <td>n</td>\n",
       "      <td>f</td>\n",
       "      <td>1</td>\n",
       "      <td>INDIVIDUAL</td>\n",
       "    </tr>\n",
       "    <tr>\n",
       "      <td>4</td>\n",
       "      <td>n</td>\n",
       "      <td>f</td>\n",
       "      <td>1</td>\n",
       "      <td>INDIVIDUAL</td>\n",
       "    </tr>\n",
       "  </tbody>\n",
       "</table>\n",
       "</div>"
      ],
      "text/plain": [
       "  pymnt_plan initial_list_status  policy_code application_type\n",
       "0  n          f                   1            INDIVIDUAL     \n",
       "1  n          f                   1            INDIVIDUAL     \n",
       "2  n          f                   1            INDIVIDUAL     \n",
       "3  n          f                   1            INDIVIDUAL     \n",
       "4  n          f                   1            INDIVIDUAL     "
      ]
     },
     "execution_count": 31,
     "metadata": {},
     "output_type": "execute_result"
    }
   ],
   "source": [
    "# Get list of columns that have only on data value in all rows, they dont have any value in our analysis\n",
    "no_use_data = cleanedup_loan_data[[c for c in cleanedup_loan_data.columns if cleanedup_loan_data[c].nunique() == 1]]\n",
    "no_use_data.head()"
   ]
  },
  {
   "cell_type": "code",
   "execution_count": 32,
   "metadata": {},
   "outputs": [
    {
     "data": {
      "text/html": [
       "<div>\n",
       "<style scoped>\n",
       "    .dataframe tbody tr th:only-of-type {\n",
       "        vertical-align: middle;\n",
       "    }\n",
       "\n",
       "    .dataframe tbody tr th {\n",
       "        vertical-align: top;\n",
       "    }\n",
       "\n",
       "    .dataframe thead th {\n",
       "        text-align: right;\n",
       "    }\n",
       "</style>\n",
       "<table border=\"1\" class=\"dataframe\">\n",
       "  <thead>\n",
       "    <tr style=\"text-align: right;\">\n",
       "      <th></th>\n",
       "      <th>id</th>\n",
       "      <th>member_id</th>\n",
       "      <th>loan_amnt</th>\n",
       "      <th>funded_amnt</th>\n",
       "      <th>funded_amnt_inv</th>\n",
       "      <th>term</th>\n",
       "      <th>int_rate</th>\n",
       "      <th>installment</th>\n",
       "      <th>grade</th>\n",
       "      <th>sub_grade</th>\n",
       "      <th>...</th>\n",
       "      <th>total_rec_prncp</th>\n",
       "      <th>total_rec_int</th>\n",
       "      <th>total_rec_late_fee</th>\n",
       "      <th>recoveries</th>\n",
       "      <th>collection_recovery_fee</th>\n",
       "      <th>last_pymnt_d</th>\n",
       "      <th>last_pymnt_amnt</th>\n",
       "      <th>next_pymnt_d</th>\n",
       "      <th>last_credit_pull_d</th>\n",
       "      <th>pub_rec_bankruptcies</th>\n",
       "    </tr>\n",
       "  </thead>\n",
       "  <tbody>\n",
       "    <tr>\n",
       "      <td>0</td>\n",
       "      <td>1077501</td>\n",
       "      <td>1296599</td>\n",
       "      <td>5000</td>\n",
       "      <td>5000</td>\n",
       "      <td>4975.0</td>\n",
       "      <td>36 months</td>\n",
       "      <td>10.65%</td>\n",
       "      <td>162.87</td>\n",
       "      <td>B</td>\n",
       "      <td>B2</td>\n",
       "      <td>...</td>\n",
       "      <td>5000.00</td>\n",
       "      <td>863.16</td>\n",
       "      <td>0.00</td>\n",
       "      <td>0.00</td>\n",
       "      <td>0.00</td>\n",
       "      <td>Jan-15</td>\n",
       "      <td>171.62</td>\n",
       "      <td>NaN</td>\n",
       "      <td>May-16</td>\n",
       "      <td>0.0</td>\n",
       "    </tr>\n",
       "    <tr>\n",
       "      <td>1</td>\n",
       "      <td>1077430</td>\n",
       "      <td>1314167</td>\n",
       "      <td>2500</td>\n",
       "      <td>2500</td>\n",
       "      <td>2500.0</td>\n",
       "      <td>60 months</td>\n",
       "      <td>15.27%</td>\n",
       "      <td>59.83</td>\n",
       "      <td>C</td>\n",
       "      <td>C4</td>\n",
       "      <td>...</td>\n",
       "      <td>456.46</td>\n",
       "      <td>435.17</td>\n",
       "      <td>0.00</td>\n",
       "      <td>117.08</td>\n",
       "      <td>1.11</td>\n",
       "      <td>Apr-13</td>\n",
       "      <td>119.66</td>\n",
       "      <td>NaN</td>\n",
       "      <td>Sep-13</td>\n",
       "      <td>0.0</td>\n",
       "    </tr>\n",
       "    <tr>\n",
       "      <td>2</td>\n",
       "      <td>1077175</td>\n",
       "      <td>1313524</td>\n",
       "      <td>2400</td>\n",
       "      <td>2400</td>\n",
       "      <td>2400.0</td>\n",
       "      <td>36 months</td>\n",
       "      <td>15.96%</td>\n",
       "      <td>84.33</td>\n",
       "      <td>C</td>\n",
       "      <td>C5</td>\n",
       "      <td>...</td>\n",
       "      <td>2400.00</td>\n",
       "      <td>605.67</td>\n",
       "      <td>0.00</td>\n",
       "      <td>0.00</td>\n",
       "      <td>0.00</td>\n",
       "      <td>Jun-14</td>\n",
       "      <td>649.91</td>\n",
       "      <td>NaN</td>\n",
       "      <td>May-16</td>\n",
       "      <td>0.0</td>\n",
       "    </tr>\n",
       "    <tr>\n",
       "      <td>3</td>\n",
       "      <td>1076863</td>\n",
       "      <td>1277178</td>\n",
       "      <td>10000</td>\n",
       "      <td>10000</td>\n",
       "      <td>10000.0</td>\n",
       "      <td>36 months</td>\n",
       "      <td>13.49%</td>\n",
       "      <td>339.31</td>\n",
       "      <td>C</td>\n",
       "      <td>C1</td>\n",
       "      <td>...</td>\n",
       "      <td>10000.00</td>\n",
       "      <td>2214.92</td>\n",
       "      <td>16.97</td>\n",
       "      <td>0.00</td>\n",
       "      <td>0.00</td>\n",
       "      <td>Jan-15</td>\n",
       "      <td>357.48</td>\n",
       "      <td>NaN</td>\n",
       "      <td>Apr-16</td>\n",
       "      <td>0.0</td>\n",
       "    </tr>\n",
       "    <tr>\n",
       "      <td>4</td>\n",
       "      <td>1075358</td>\n",
       "      <td>1311748</td>\n",
       "      <td>3000</td>\n",
       "      <td>3000</td>\n",
       "      <td>3000.0</td>\n",
       "      <td>60 months</td>\n",
       "      <td>12.69%</td>\n",
       "      <td>67.79</td>\n",
       "      <td>B</td>\n",
       "      <td>B5</td>\n",
       "      <td>...</td>\n",
       "      <td>2475.94</td>\n",
       "      <td>1037.39</td>\n",
       "      <td>0.00</td>\n",
       "      <td>0.00</td>\n",
       "      <td>0.00</td>\n",
       "      <td>May-16</td>\n",
       "      <td>67.79</td>\n",
       "      <td>Jun-16</td>\n",
       "      <td>May-16</td>\n",
       "      <td>0.0</td>\n",
       "    </tr>\n",
       "  </tbody>\n",
       "</table>\n",
       "<p>5 rows × 48 columns</p>\n",
       "</div>"
      ],
      "text/plain": [
       "        id  member_id  loan_amnt  funded_amnt  funded_amnt_inv        term  \\\n",
       "0  1077501  1296599    5000       5000         4975.0            36 months   \n",
       "1  1077430  1314167    2500       2500         2500.0            60 months   \n",
       "2  1077175  1313524    2400       2400         2400.0            36 months   \n",
       "3  1076863  1277178    10000      10000        10000.0           36 months   \n",
       "4  1075358  1311748    3000       3000         3000.0            60 months   \n",
       "\n",
       "  int_rate  installment grade sub_grade  ... total_rec_prncp total_rec_int  \\\n",
       "0  10.65%   162.87       B     B2        ...  5000.00         863.16         \n",
       "1  15.27%   59.83        C     C4        ...  456.46          435.17         \n",
       "2  15.96%   84.33        C     C5        ...  2400.00         605.67         \n",
       "3  13.49%   339.31       C     C1        ...  10000.00        2214.92        \n",
       "4  12.69%   67.79        B     B5        ...  2475.94         1037.39        \n",
       "\n",
       "  total_rec_late_fee  recoveries collection_recovery_fee last_pymnt_d  \\\n",
       "0  0.00               0.00        0.00                    Jan-15        \n",
       "1  0.00               117.08      1.11                    Apr-13        \n",
       "2  0.00               0.00        0.00                    Jun-14        \n",
       "3  16.97              0.00        0.00                    Jan-15        \n",
       "4  0.00               0.00        0.00                    May-16        \n",
       "\n",
       "  last_pymnt_amnt next_pymnt_d last_credit_pull_d pub_rec_bankruptcies  \n",
       "0  171.62          NaN          May-16             0.0                  \n",
       "1  119.66          NaN          Sep-13             0.0                  \n",
       "2  649.91          NaN          May-16             0.0                  \n",
       "3  357.48          NaN          Apr-16             0.0                  \n",
       "4  67.79           Jun-16       May-16             0.0                  \n",
       "\n",
       "[5 rows x 48 columns]"
      ]
     },
     "execution_count": 32,
     "metadata": {},
     "output_type": "execute_result"
    }
   ],
   "source": [
    "# Drop the columns with single unique values\n",
    "cleanedup_loan_data = cleanedup_loan_data[[c for c in cleanedup_loan_data.columns if cleanedup_loan_data[c].nunique() > 1]]\n",
    "cleanedup_loan_data.head()"
   ]
  },
  {
   "cell_type": "code",
   "execution_count": 33,
   "metadata": {
    "scrolled": true
   },
   "outputs": [
    {
     "data": {
      "text/html": [
       "<div>\n",
       "<style scoped>\n",
       "    .dataframe tbody tr th:only-of-type {\n",
       "        vertical-align: middle;\n",
       "    }\n",
       "\n",
       "    .dataframe tbody tr th {\n",
       "        vertical-align: top;\n",
       "    }\n",
       "\n",
       "    .dataframe thead th {\n",
       "        text-align: right;\n",
       "    }\n",
       "</style>\n",
       "<table border=\"1\" class=\"dataframe\">\n",
       "  <thead>\n",
       "    <tr style=\"text-align: right;\">\n",
       "      <th></th>\n",
       "      <th>id</th>\n",
       "      <th>member_id</th>\n",
       "      <th>loan_amnt</th>\n",
       "      <th>funded_amnt</th>\n",
       "      <th>funded_amnt_inv</th>\n",
       "      <th>term</th>\n",
       "      <th>int_rate</th>\n",
       "      <th>installment</th>\n",
       "      <th>grade</th>\n",
       "      <th>sub_grade</th>\n",
       "      <th>...</th>\n",
       "      <th>total_rec_prncp</th>\n",
       "      <th>total_rec_int</th>\n",
       "      <th>total_rec_late_fee</th>\n",
       "      <th>recoveries</th>\n",
       "      <th>collection_recovery_fee</th>\n",
       "      <th>last_pymnt_d</th>\n",
       "      <th>last_pymnt_amnt</th>\n",
       "      <th>next_pymnt_d</th>\n",
       "      <th>last_credit_pull_d</th>\n",
       "      <th>pub_rec_bankruptcies</th>\n",
       "    </tr>\n",
       "  </thead>\n",
       "  <tbody>\n",
       "    <tr>\n",
       "      <td>0</td>\n",
       "      <td>1077501</td>\n",
       "      <td>1296599</td>\n",
       "      <td>5000</td>\n",
       "      <td>5000</td>\n",
       "      <td>4975.0</td>\n",
       "      <td>36 months</td>\n",
       "      <td>10.65%</td>\n",
       "      <td>162.87</td>\n",
       "      <td>B</td>\n",
       "      <td>B2</td>\n",
       "      <td>...</td>\n",
       "      <td>5000.00</td>\n",
       "      <td>863.16</td>\n",
       "      <td>0.00</td>\n",
       "      <td>0.00</td>\n",
       "      <td>0.00</td>\n",
       "      <td>Jan-15</td>\n",
       "      <td>171.62</td>\n",
       "      <td>NaN</td>\n",
       "      <td>May-16</td>\n",
       "      <td>0.0</td>\n",
       "    </tr>\n",
       "    <tr>\n",
       "      <td>1</td>\n",
       "      <td>1077430</td>\n",
       "      <td>1314167</td>\n",
       "      <td>2500</td>\n",
       "      <td>2500</td>\n",
       "      <td>2500.0</td>\n",
       "      <td>60 months</td>\n",
       "      <td>15.27%</td>\n",
       "      <td>59.83</td>\n",
       "      <td>C</td>\n",
       "      <td>C4</td>\n",
       "      <td>...</td>\n",
       "      <td>456.46</td>\n",
       "      <td>435.17</td>\n",
       "      <td>0.00</td>\n",
       "      <td>117.08</td>\n",
       "      <td>1.11</td>\n",
       "      <td>Apr-13</td>\n",
       "      <td>119.66</td>\n",
       "      <td>NaN</td>\n",
       "      <td>Sep-13</td>\n",
       "      <td>0.0</td>\n",
       "    </tr>\n",
       "    <tr>\n",
       "      <td>2</td>\n",
       "      <td>1077175</td>\n",
       "      <td>1313524</td>\n",
       "      <td>2400</td>\n",
       "      <td>2400</td>\n",
       "      <td>2400.0</td>\n",
       "      <td>36 months</td>\n",
       "      <td>15.96%</td>\n",
       "      <td>84.33</td>\n",
       "      <td>C</td>\n",
       "      <td>C5</td>\n",
       "      <td>...</td>\n",
       "      <td>2400.00</td>\n",
       "      <td>605.67</td>\n",
       "      <td>0.00</td>\n",
       "      <td>0.00</td>\n",
       "      <td>0.00</td>\n",
       "      <td>Jun-14</td>\n",
       "      <td>649.91</td>\n",
       "      <td>NaN</td>\n",
       "      <td>May-16</td>\n",
       "      <td>0.0</td>\n",
       "    </tr>\n",
       "    <tr>\n",
       "      <td>3</td>\n",
       "      <td>1076863</td>\n",
       "      <td>1277178</td>\n",
       "      <td>10000</td>\n",
       "      <td>10000</td>\n",
       "      <td>10000.0</td>\n",
       "      <td>36 months</td>\n",
       "      <td>13.49%</td>\n",
       "      <td>339.31</td>\n",
       "      <td>C</td>\n",
       "      <td>C1</td>\n",
       "      <td>...</td>\n",
       "      <td>10000.00</td>\n",
       "      <td>2214.92</td>\n",
       "      <td>16.97</td>\n",
       "      <td>0.00</td>\n",
       "      <td>0.00</td>\n",
       "      <td>Jan-15</td>\n",
       "      <td>357.48</td>\n",
       "      <td>NaN</td>\n",
       "      <td>Apr-16</td>\n",
       "      <td>0.0</td>\n",
       "    </tr>\n",
       "    <tr>\n",
       "      <td>4</td>\n",
       "      <td>1075358</td>\n",
       "      <td>1311748</td>\n",
       "      <td>3000</td>\n",
       "      <td>3000</td>\n",
       "      <td>3000.0</td>\n",
       "      <td>60 months</td>\n",
       "      <td>12.69%</td>\n",
       "      <td>67.79</td>\n",
       "      <td>B</td>\n",
       "      <td>B5</td>\n",
       "      <td>...</td>\n",
       "      <td>2475.94</td>\n",
       "      <td>1037.39</td>\n",
       "      <td>0.00</td>\n",
       "      <td>0.00</td>\n",
       "      <td>0.00</td>\n",
       "      <td>May-16</td>\n",
       "      <td>67.79</td>\n",
       "      <td>Jun-16</td>\n",
       "      <td>May-16</td>\n",
       "      <td>0.0</td>\n",
       "    </tr>\n",
       "  </tbody>\n",
       "</table>\n",
       "<p>5 rows × 47 columns</p>\n",
       "</div>"
      ],
      "text/plain": [
       "        id  member_id  loan_amnt  funded_amnt  funded_amnt_inv        term  \\\n",
       "0  1077501  1296599    5000       5000         4975.0            36 months   \n",
       "1  1077430  1314167    2500       2500         2500.0            60 months   \n",
       "2  1077175  1313524    2400       2400         2400.0            36 months   \n",
       "3  1076863  1277178    10000      10000        10000.0           36 months   \n",
       "4  1075358  1311748    3000       3000         3000.0            60 months   \n",
       "\n",
       "  int_rate  installment grade sub_grade  ... total_rec_prncp total_rec_int  \\\n",
       "0  10.65%   162.87       B     B2        ...  5000.00         863.16         \n",
       "1  15.27%   59.83        C     C4        ...  456.46          435.17         \n",
       "2  15.96%   84.33        C     C5        ...  2400.00         605.67         \n",
       "3  13.49%   339.31       C     C1        ...  10000.00        2214.92        \n",
       "4  12.69%   67.79        B     B5        ...  2475.94         1037.39        \n",
       "\n",
       "  total_rec_late_fee  recoveries collection_recovery_fee last_pymnt_d  \\\n",
       "0  0.00               0.00        0.00                    Jan-15        \n",
       "1  0.00               117.08      1.11                    Apr-13        \n",
       "2  0.00               0.00        0.00                    Jun-14        \n",
       "3  16.97              0.00        0.00                    Jan-15        \n",
       "4  0.00               0.00        0.00                    May-16        \n",
       "\n",
       "  last_pymnt_amnt next_pymnt_d last_credit_pull_d pub_rec_bankruptcies  \n",
       "0  171.62          NaN          May-16             0.0                  \n",
       "1  119.66          NaN          Sep-13             0.0                  \n",
       "2  649.91          NaN          May-16             0.0                  \n",
       "3  357.48          NaN          Apr-16             0.0                  \n",
       "4  67.79           Jun-16       May-16             0.0                  \n",
       "\n",
       "[5 rows x 47 columns]"
      ]
     },
     "execution_count": 33,
     "metadata": {},
     "output_type": "execute_result"
    }
   ],
   "source": [
    "# Remove columns we are not going to use e.g. URL\n",
    "cleanedup_loan_data = cleanedup_loan_data.drop(['url'], axis = 1)\n",
    "cleanedup_loan_data.head()"
   ]
  },
  {
   "cell_type": "code",
   "execution_count": 34,
   "metadata": {},
   "outputs": [
    {
     "data": {
      "text/html": [
       "<div>\n",
       "<style scoped>\n",
       "    .dataframe tbody tr th:only-of-type {\n",
       "        vertical-align: middle;\n",
       "    }\n",
       "\n",
       "    .dataframe tbody tr th {\n",
       "        vertical-align: top;\n",
       "    }\n",
       "\n",
       "    .dataframe thead th {\n",
       "        text-align: right;\n",
       "    }\n",
       "</style>\n",
       "<table border=\"1\" class=\"dataframe\">\n",
       "  <thead>\n",
       "    <tr style=\"text-align: right;\">\n",
       "      <th></th>\n",
       "      <th>id</th>\n",
       "      <th>member_id</th>\n",
       "      <th>loan_amnt</th>\n",
       "      <th>funded_amnt</th>\n",
       "      <th>funded_amnt_inv</th>\n",
       "      <th>term</th>\n",
       "      <th>int_rate</th>\n",
       "      <th>installment</th>\n",
       "      <th>grade</th>\n",
       "      <th>sub_grade</th>\n",
       "      <th>...</th>\n",
       "      <th>total_rec_prncp</th>\n",
       "      <th>total_rec_int</th>\n",
       "      <th>total_rec_late_fee</th>\n",
       "      <th>recoveries</th>\n",
       "      <th>collection_recovery_fee</th>\n",
       "      <th>last_pymnt_d</th>\n",
       "      <th>last_pymnt_amnt</th>\n",
       "      <th>next_pymnt_d</th>\n",
       "      <th>last_credit_pull_d</th>\n",
       "      <th>pub_rec_bankruptcies</th>\n",
       "    </tr>\n",
       "  </thead>\n",
       "  <tbody>\n",
       "    <tr>\n",
       "      <td>0</td>\n",
       "      <td>1077501</td>\n",
       "      <td>1296599</td>\n",
       "      <td>5000</td>\n",
       "      <td>5000</td>\n",
       "      <td>4975.0</td>\n",
       "      <td>36 months</td>\n",
       "      <td>10.65%</td>\n",
       "      <td>162.87</td>\n",
       "      <td>B</td>\n",
       "      <td>B2</td>\n",
       "      <td>...</td>\n",
       "      <td>5000.00</td>\n",
       "      <td>863.16</td>\n",
       "      <td>0.00</td>\n",
       "      <td>0.00</td>\n",
       "      <td>0.00</td>\n",
       "      <td>Jan-15</td>\n",
       "      <td>171.62</td>\n",
       "      <td>NaN</td>\n",
       "      <td>May-16</td>\n",
       "      <td>0.0</td>\n",
       "    </tr>\n",
       "    <tr>\n",
       "      <td>1</td>\n",
       "      <td>1077430</td>\n",
       "      <td>1314167</td>\n",
       "      <td>2500</td>\n",
       "      <td>2500</td>\n",
       "      <td>2500.0</td>\n",
       "      <td>60 months</td>\n",
       "      <td>15.27%</td>\n",
       "      <td>59.83</td>\n",
       "      <td>C</td>\n",
       "      <td>C4</td>\n",
       "      <td>...</td>\n",
       "      <td>456.46</td>\n",
       "      <td>435.17</td>\n",
       "      <td>0.00</td>\n",
       "      <td>117.08</td>\n",
       "      <td>1.11</td>\n",
       "      <td>Apr-13</td>\n",
       "      <td>119.66</td>\n",
       "      <td>NaN</td>\n",
       "      <td>Sep-13</td>\n",
       "      <td>0.0</td>\n",
       "    </tr>\n",
       "    <tr>\n",
       "      <td>2</td>\n",
       "      <td>1077175</td>\n",
       "      <td>1313524</td>\n",
       "      <td>2400</td>\n",
       "      <td>2400</td>\n",
       "      <td>2400.0</td>\n",
       "      <td>36 months</td>\n",
       "      <td>15.96%</td>\n",
       "      <td>84.33</td>\n",
       "      <td>C</td>\n",
       "      <td>C5</td>\n",
       "      <td>...</td>\n",
       "      <td>2400.00</td>\n",
       "      <td>605.67</td>\n",
       "      <td>0.00</td>\n",
       "      <td>0.00</td>\n",
       "      <td>0.00</td>\n",
       "      <td>Jun-14</td>\n",
       "      <td>649.91</td>\n",
       "      <td>NaN</td>\n",
       "      <td>May-16</td>\n",
       "      <td>0.0</td>\n",
       "    </tr>\n",
       "    <tr>\n",
       "      <td>3</td>\n",
       "      <td>1076863</td>\n",
       "      <td>1277178</td>\n",
       "      <td>10000</td>\n",
       "      <td>10000</td>\n",
       "      <td>10000.0</td>\n",
       "      <td>36 months</td>\n",
       "      <td>13.49%</td>\n",
       "      <td>339.31</td>\n",
       "      <td>C</td>\n",
       "      <td>C1</td>\n",
       "      <td>...</td>\n",
       "      <td>10000.00</td>\n",
       "      <td>2214.92</td>\n",
       "      <td>16.97</td>\n",
       "      <td>0.00</td>\n",
       "      <td>0.00</td>\n",
       "      <td>Jan-15</td>\n",
       "      <td>357.48</td>\n",
       "      <td>NaN</td>\n",
       "      <td>Apr-16</td>\n",
       "      <td>0.0</td>\n",
       "    </tr>\n",
       "    <tr>\n",
       "      <td>4</td>\n",
       "      <td>1075358</td>\n",
       "      <td>1311748</td>\n",
       "      <td>3000</td>\n",
       "      <td>3000</td>\n",
       "      <td>3000.0</td>\n",
       "      <td>60 months</td>\n",
       "      <td>12.69%</td>\n",
       "      <td>67.79</td>\n",
       "      <td>B</td>\n",
       "      <td>B5</td>\n",
       "      <td>...</td>\n",
       "      <td>2475.94</td>\n",
       "      <td>1037.39</td>\n",
       "      <td>0.00</td>\n",
       "      <td>0.00</td>\n",
       "      <td>0.00</td>\n",
       "      <td>May-16</td>\n",
       "      <td>67.79</td>\n",
       "      <td>Jun-16</td>\n",
       "      <td>May-16</td>\n",
       "      <td>0.0</td>\n",
       "    </tr>\n",
       "  </tbody>\n",
       "</table>\n",
       "<p>5 rows × 47 columns</p>\n",
       "</div>"
      ],
      "text/plain": [
       "        id  member_id  loan_amnt  funded_amnt  funded_amnt_inv        term  \\\n",
       "0  1077501  1296599    5000       5000         4975.0            36 months   \n",
       "1  1077430  1314167    2500       2500         2500.0            60 months   \n",
       "2  1077175  1313524    2400       2400         2400.0            36 months   \n",
       "3  1076863  1277178    10000      10000        10000.0           36 months   \n",
       "4  1075358  1311748    3000       3000         3000.0            60 months   \n",
       "\n",
       "  int_rate  installment grade sub_grade  ... total_rec_prncp total_rec_int  \\\n",
       "0  10.65%   162.87       B     B2        ...  5000.00         863.16         \n",
       "1  15.27%   59.83        C     C4        ...  456.46          435.17         \n",
       "2  15.96%   84.33        C     C5        ...  2400.00         605.67         \n",
       "3  13.49%   339.31       C     C1        ...  10000.00        2214.92        \n",
       "4  12.69%   67.79        B     B5        ...  2475.94         1037.39        \n",
       "\n",
       "  total_rec_late_fee  recoveries collection_recovery_fee last_pymnt_d  \\\n",
       "0  0.00               0.00        0.00                    Jan-15        \n",
       "1  0.00               117.08      1.11                    Apr-13        \n",
       "2  0.00               0.00        0.00                    Jun-14        \n",
       "3  16.97              0.00        0.00                    Jan-15        \n",
       "4  0.00               0.00        0.00                    May-16        \n",
       "\n",
       "  last_pymnt_amnt next_pymnt_d last_credit_pull_d pub_rec_bankruptcies  \n",
       "0  171.62          NaN          May-16             0.0                  \n",
       "1  119.66          NaN          Sep-13             0.0                  \n",
       "2  649.91          NaN          May-16             0.0                  \n",
       "3  357.48          NaN          Apr-16             0.0                  \n",
       "4  67.79           Jun-16       May-16             0.0                  \n",
       "\n",
       "[5 rows x 47 columns]"
      ]
     },
     "execution_count": 34,
     "metadata": {},
     "output_type": "execute_result"
    }
   ],
   "source": [
    "# drop duplicate rows (if any)\n",
    "cleanedup_loan_data = cleanedup_loan_data.drop_duplicates(subset=None, keep='first')\n",
    "cleanedup_loan_data.head()"
   ]
  },
  {
   "cell_type": "markdown",
   "metadata": {},
   "source": [
    "### Reuasable Functions"
   ]
  },
  {
   "cell_type": "code",
   "execution_count": 35,
   "metadata": {},
   "outputs": [],
   "source": [
    "# Function to Plot a distribution given a dataframe and column\n",
    "def head_and_line_plot(df, col, ptitle='Distribution', pxlabel='', pylabel='Count'):\n",
    "    plt.figure(figsize=(12, 4))\n",
    "    print(df[[col]].head())\n",
    "    df[col].value_counts().plot()\n",
    "    plt.title(ptitle)\n",
    "    plt.xlabel(pxlabel)\n",
    "    plt.ylabel(pylabel)   \n",
    "    plt.show()"
   ]
  },
  {
   "cell_type": "code",
   "execution_count": 36,
   "metadata": {},
   "outputs": [],
   "source": [
    "def head_and_bar_plot(df, col, ptitle='Distribution', pxlabel='', pylabel='Count'):\n",
    "    plt.figure(figsize=(12, 4))\n",
    "    print(df[[col]].head())\n",
    "    df[col].value_counts().plot.bar()\n",
    "    plt.title(ptitle)\n",
    "    plt.xlabel(pxlabel)\n",
    "    plt.ylabel(pylabel) \n",
    "    plt.show()"
   ]
  },
  {
   "cell_type": "code",
   "execution_count": 71,
   "metadata": {},
   "outputs": [],
   "source": [
    "def head_and_pie_plot(df, col, ptitle='Breakup'):\n",
    "    plt.figure(figsize=(12, 4))\n",
    "    print(df[[col]].head())\n",
    "    df[col].value_counts().plot.pie(autopct='%.1f%%')\n",
    "    plt.title(ptitle)\n",
    "    plt.show()"
   ]
  },
  {
   "cell_type": "markdown",
   "metadata": {},
   "source": [
    "## Univariate Analysis"
   ]
  },
  {
   "cell_type": "code",
   "execution_count": 37,
   "metadata": {},
   "outputs": [
    {
     "data": {
      "text/plain": [
       "Index(['id', 'member_id', 'loan_amnt', 'funded_amnt', 'funded_amnt_inv',\n",
       "       'term', 'int_rate', 'installment', 'grade', 'sub_grade', 'emp_title',\n",
       "       'emp_length', 'home_ownership', 'annual_inc', 'verification_status',\n",
       "       'issue_d', 'loan_status', 'desc', 'purpose', 'title', 'zip_code',\n",
       "       'addr_state', 'dti', 'delinq_2yrs', 'earliest_cr_line',\n",
       "       'inq_last_6mths', 'mths_since_last_delinq', 'mths_since_last_record',\n",
       "       'open_acc', 'pub_rec', 'revol_bal', 'revol_util', 'total_acc',\n",
       "       'out_prncp', 'out_prncp_inv', 'total_pymnt', 'total_pymnt_inv',\n",
       "       'total_rec_prncp', 'total_rec_int', 'total_rec_late_fee', 'recoveries',\n",
       "       'collection_recovery_fee', 'last_pymnt_d', 'last_pymnt_amnt',\n",
       "       'next_pymnt_d', 'last_credit_pull_d', 'pub_rec_bankruptcies'],\n",
       "      dtype='object')"
      ]
     },
     "execution_count": 37,
     "metadata": {},
     "output_type": "execute_result"
    }
   ],
   "source": [
    "# List of 47 Columns\n",
    "cleanedup_loan_data.columns"
   ]
  },
  {
   "cell_type": "markdown",
   "metadata": {},
   "source": [
    "#### Variables\n",
    "![variables](https://i.ibb.co/RTZv36Z/pic1.png)"
   ]
  },
  {
   "cell_type": "markdown",
   "metadata": {},
   "source": [
    "### Categorical variables\n",
    "#### Unordered categorical"
   ]
  },
  {
   "cell_type": "code",
   "execution_count": 38,
   "metadata": {},
   "outputs": [
    {
     "name": "stdout",
     "output_type": "stream",
     "text": [
      "  addr_state\n",
      "0  AZ       \n",
      "1  GA       \n",
      "2  IL       \n",
      "3  CA       \n",
      "4  OR       \n"
     ]
    },
    {
     "data": {
      "image/png": "[encoded data removed]",
      "text/plain": [
       "<Figure size 864x288 with 1 Axes>"
      ]
     },
     "metadata": {
      "needs_background": "light"
     },
     "output_type": "display_data"
    }
   ],
   "source": [
    "head_and_bar_plot(cleanedup_loan_data, 'addr_state', 'Distribution by State', 'State','Count')\n",
    "# looks like a power law distribution for state with CA having highest accepted applications\n",
    "\n",
    "# TODO - Can be removed  VK Comments - Changed this to bar plot to see top states"
   ]
  },
  {
   "cell_type": "markdown",
   "metadata": {},
   "source": [
    "#### <font color='Maroon'>Insights - Majority of the business is in 10 states</font>"
   ]
  },
  {
   "cell_type": "code",
   "execution_count": 39,
   "metadata": {},
   "outputs": [
    {
     "name": "stdout",
     "output_type": "stream",
     "text": [
      "  verification_status\n",
      "0  Verified          \n",
      "1  Source Verified   \n",
      "2  Not Verified      \n",
      "3  Source Verified   \n",
      "4  Source Verified   \n"
     ]
    },
    {
     "data": {
      "image/png": "[encoded data removed]",
      "text/plain": [
       "<Figure size 864x288 with 1 Axes>"
      ]
     },
     "metadata": {
      "needs_background": "light"
     },
     "output_type": "display_data"
    }
   ],
   "source": [
    "head_and_bar_plot(cleanedup_loan_data, 'verification_status', 'Distribution by Verification Status', '' ,'Count')"
   ]
  },
  {
   "cell_type": "markdown",
   "metadata": {},
   "source": [
    "#### <font color='Maroon'>Insights - A significant portion of the loans shows are not verified</font>"
   ]
  },
  {
   "cell_type": "code",
   "execution_count": 40,
   "metadata": {
    "scrolled": false
   },
   "outputs": [
    {
     "name": "stdout",
     "output_type": "stream",
     "text": [
      "          purpose\n",
      "0  credit_card   \n",
      "1  car           \n",
      "2  small_business\n",
      "3  other         \n",
      "4  other         \n"
     ]
    },
    {
     "data": {
      "image/png": "[encoded data removed]",
      "text/plain": [
       "<Figure size 864x288 with 1 Axes>"
      ]
     },
     "metadata": {
      "needs_background": "light"
     },
     "output_type": "display_data"
    }
   ],
   "source": [
    "head_and_bar_plot(cleanedup_loan_data, 'purpose','Distribution by Verification Status', 'Verification Status' ,'Count')"
   ]
  },
  {
   "cell_type": "markdown",
   "metadata": {},
   "source": [
    "#### <font color='Maroon'>Insights - Majority of loans taken are for Debt Consolidation</font>"
   ]
  },
  {
   "cell_type": "code",
   "execution_count": 41,
   "metadata": {
    "scrolled": false
   },
   "outputs": [
    {
     "name": "stdout",
     "output_type": "stream",
     "text": [
      "  home_ownership\n",
      "0  RENT         \n",
      "1  RENT         \n",
      "2  RENT         \n",
      "3  RENT         \n",
      "4  RENT         \n"
     ]
    },
    {
     "data": {
      "image/png": "[encoded data removed]",
      "text/plain": [
       "<Figure size 864x288 with 1 Axes>"
      ]
     },
     "metadata": {
      "needs_background": "light"
     },
     "output_type": "display_data"
    }
   ],
   "source": [
    "head_and_bar_plot(cleanedup_loan_data, 'home_ownership', 'Distribution by Home Ownership', 'Type' ,'Count')"
   ]
  },
  {
   "cell_type": "markdown",
   "metadata": {},
   "source": [
    "#### <font color='Maroon'>Insights - Majority of loans taken are by people with rented / mortgaged homes</font>"
   ]
  },
  {
   "cell_type": "markdown",
   "metadata": {},
   "source": [
    "#### Ordered categorical variables"
   ]
  },
  {
   "cell_type": "code",
   "execution_count": 42,
   "metadata": {
    "scrolled": false
   },
   "outputs": [
    {
     "name": "stdout",
     "output_type": "stream",
     "text": [
      "         term\n",
      "0   36 months\n",
      "1   60 months\n",
      "2   36 months\n",
      "3   36 months\n",
      "4   60 months\n"
     ]
    },
    {
     "data": {
      "image/png": "[encoded data removed]",
      "text/plain": [
       "<Figure size 864x288 with 1 Axes>"
      ]
     },
     "metadata": {
      "needs_background": "light"
     },
     "output_type": "display_data"
    }
   ],
   "source": [
    "head_and_bar_plot(cleanedup_loan_data, 'term', 'Distribution by Loan Term', 'Loan Term' ,'Count')"
   ]
  },
  {
   "cell_type": "code",
   "execution_count": 43,
   "metadata": {},
   "outputs": [],
   "source": [
    "# TODO - Check with is NotAvailable coming, it should not be there."
   ]
  },
  {
   "cell_type": "markdown",
   "metadata": {},
   "source": [
    "#### <font color='Maroon'>Insights - Almost 75% of the loans are of tenure 36 months</font>"
   ]
  },
  {
   "cell_type": "code",
   "execution_count": 44,
   "metadata": {},
   "outputs": [
    {
     "data": {
      "text/plain": [
       "array(['10+ years', '< 1 year', '1 year', '3 years', '8 years', '9 years',\n",
       "       '4 years', '5 years', '6 years', '2 years', '7 years', nan],\n",
       "      dtype=object)"
      ]
     },
     "execution_count": 44,
     "metadata": {},
     "output_type": "execute_result"
    }
   ],
   "source": [
    "cleanedup_loan_data.emp_length.unique()"
   ]
  },
  {
   "cell_type": "code",
   "execution_count": 45,
   "metadata": {},
   "outputs": [
    {
     "data": {
      "text/plain": [
       "array(['10+ years', '< 1 year', '1 year', '3 years', '8 years', '9 years',\n",
       "       '4 years', '5 years', '6 years', '2 years', '7 years',\n",
       "       'NotAvailable'], dtype=object)"
      ]
     },
     "execution_count": 45,
     "metadata": {},
     "output_type": "execute_result"
    }
   ],
   "source": [
    "# Replace the nan values in the table to NotAvailable\n",
    "cleanedup_loan_data.loc[cleanedup_loan_data['emp_length'].isnull(), 'emp_length'] = 'NotAvailable'\n",
    "cleanedup_loan_data.emp_length.unique()"
   ]
  },
  {
   "cell_type": "code",
   "execution_count": 48,
   "metadata": {
    "scrolled": false
   },
   "outputs": [
    {
     "name": "stdout",
     "output_type": "stream",
     "text": [
      "  emp_length\n",
      "0  10+ years\n",
      "1  < 1 year \n",
      "2  10+ years\n",
      "3  10+ years\n",
      "4  1 year   \n"
     ]
    },
    {
     "data": {
      "image/png": "[encoded data removed]",
      "text/plain": [
       "<Figure size 864x288 with 1 Axes>"
      ]
     },
     "metadata": {
      "needs_background": "light"
     },
     "output_type": "display_data"
    }
   ],
   "source": [
    "head_and_bar_plot(cleanedup_loan_data, 'emp_length', 'Distribution by current job term', 'Years' ,'Count')"
   ]
  },
  {
   "cell_type": "markdown",
   "metadata": {},
   "source": [
    "#### <font color='Maroon'>Insights - Majority of Loans are given to people with  jobs. There are close to 1000 people who have not disclosed or are not in jobs</font>"
   ]
  },
  {
   "cell_type": "code",
   "execution_count": 49,
   "metadata": {},
   "outputs": [
    {
     "name": "stdout",
     "output_type": "stream",
     "text": [
      "  grade\n",
      "0  B   \n",
      "1  C   \n",
      "2  C   \n",
      "3  C   \n",
      "4  B   \n"
     ]
    },
    {
     "data": {
      "image/png": "[encoded data removed]",
      "text/plain": [
       "<Figure size 864x288 with 1 Axes>"
      ]
     },
     "metadata": {
      "needs_background": "light"
     },
     "output_type": "display_data"
    }
   ],
   "source": [
    "head_and_bar_plot(cleanedup_loan_data, 'grade', 'Distribution by Grade', 'Grade' ,'Count')"
   ]
  },
  {
   "cell_type": "markdown",
   "metadata": {},
   "source": [
    "#### <font color='Maroon'>Insights - Majority of loans are with A,B and C gradings</font>"
   ]
  },
  {
   "cell_type": "code",
   "execution_count": 50,
   "metadata": {},
   "outputs": [
    {
     "name": "stdout",
     "output_type": "stream",
     "text": [
      "  sub_grade\n",
      "0  B2      \n",
      "1  C4      \n",
      "2  C5      \n",
      "3  C1      \n",
      "4  B5      \n"
     ]
    },
    {
     "data": {
      "image/png": "[encoded data removed]",
      "text/plain": [
       "<Figure size 864x288 with 1 Axes>"
      ]
     },
     "metadata": {
      "needs_background": "light"
     },
     "output_type": "display_data"
    }
   ],
   "source": [
    "head_and_bar_plot(cleanedup_loan_data, 'sub_grade', 'Distribution by Sub-Grade', 'Grade/SubGrade' ,'Count')"
   ]
  },
  {
   "cell_type": "markdown",
   "metadata": {},
   "source": [
    "#### <font color='Maroon'></font>"
   ]
  },
  {
   "cell_type": "code",
   "execution_count": 61,
   "metadata": {},
   "outputs": [
    {
     "data": {
      "text/plain": [
       "0    NaN                     \n",
       "1    Ryder                   \n",
       "2    NaN                     \n",
       "3    AIR RESOURCES BOARD     \n",
       "4    University Medical Group\n",
       "Name: emp_title, dtype: object"
      ]
     },
     "execution_count": 61,
     "metadata": {},
     "output_type": "execute_result"
    }
   ],
   "source": [
    "cleanedup_loan_data.emp_title.head()"
   ]
  },
  {
   "cell_type": "markdown",
   "metadata": {},
   "source": [
    "#### <font color='Maroon'>Insights - Employee Title Contains too much text, no processing done on this column</font>"
   ]
  },
  {
   "cell_type": "code",
   "execution_count": 73,
   "metadata": {
    "scrolled": false
   },
   "outputs": [
    {
     "name": "stdout",
     "output_type": "stream",
     "text": [
      "   loan_status\n",
      "0  Fully Paid \n",
      "1  Charged Off\n",
      "2  Fully Paid \n",
      "3  Fully Paid \n",
      "4  Current    \n"
     ]
    },
    {
     "data": {
      "image/png": "[encoded data removed]",
      "text/plain": [
       "<Figure size 864x288 with 1 Axes>"
      ]
     },
     "metadata": {},
     "output_type": "display_data"
    }
   ],
   "source": [
    "head_and_pie_plot(cleanedup_loan_data, 'loan_status', \"Breakup of Loan Status\")"
   ]
  },
  {
   "cell_type": "markdown",
   "metadata": {},
   "source": [
    "#### <font color='Maroon'>Insights - 83.0% of loans have been closed, 14.2% of loans have gone bad</font>"
   ]
  },
  {
   "cell_type": "code",
   "execution_count": 37,
   "metadata": {},
   "outputs": [
    {
     "name": "stdout",
     "output_type": "stream",
     "text": [
      "   pub_rec\n",
      "0  0      \n",
      "1  0      \n",
      "2  0      \n",
      "3  0      \n",
      "4  0      \n"
     ]
    },
    {
     "data": {
      "image/png": "[encoded data removed]",
      "text/plain": [
       "<Figure size 864x288 with 1 Axes>"
      ]
     },
     "metadata": {
      "needs_background": "light"
     },
     "output_type": "display_data"
    },
    {
     "data": {
      "text/plain": [
       "0    37601\n",
       "1    2056 \n",
       "2    51   \n",
       "3    7    \n",
       "4    2    \n",
       "Name: pub_rec, dtype: int64"
      ]
     },
     "execution_count": 37,
     "metadata": {},
     "output_type": "execute_result"
    }
   ],
   "source": [
    "head_and_bar_plot(cleanedup_loan_data, 'pub_rec')\n",
    "\n",
    "cleanedup_loan_data['pub_rec'].value_counts()\n",
    "# one public record seems related to the number of defaults as well"
   ]
  },
  {
   "cell_type": "markdown",
   "metadata": {},
   "source": [
    "#### <font color='Maroon'> </font>"
   ]
  },
  {
   "cell_type": "code",
   "execution_count": 28,
   "metadata": {},
   "outputs": [
    {
     "name": "stdout",
     "output_type": "stream",
     "text": [
      "  issue_d\n",
      "0  Dec-11\n",
      "1  Dec-11\n",
      "2  Dec-11\n",
      "3  Dec-11\n",
      "4  Dec-11\n"
     ]
    },
    {
     "data": {
      "image/png": "[encoded data removed]",
      "text/plain": [
       "<Figure size 864x288 with 1 Axes>"
      ]
     },
     "metadata": {
      "needs_background": "light"
     },
     "output_type": "display_data"
    }
   ],
   "source": [
    "head_and_bar_plot(cleanedup_loan_data, 'issue_d')\n",
    "# can possibly consider months impact"
   ]
  },
  {
   "cell_type": "code",
   "execution_count": 29,
   "metadata": {},
   "outputs": [
    {
     "name": "stdout",
     "output_type": "stream",
     "text": [
      "   inq_last_6mths\n",
      "0  1             \n",
      "1  5             \n",
      "2  2             \n",
      "3  1             \n",
      "4  0             \n"
     ]
    },
    {
     "data": {
      "image/png": "[encoded data removed]",
      "text/plain": [
       "<Figure size 864x288 with 1 Axes>"
      ]
     },
     "metadata": {
      "needs_background": "light"
     },
     "output_type": "display_data"
    }
   ],
   "source": [
    "head_and_bar_plot(cleanedup_loan_data, 'inq_last_6mths')\n",
    "# looks like not many loan applications with more than 4 inquiries were approved"
   ]
  },
  {
   "cell_type": "code",
   "execution_count": 30,
   "metadata": {},
   "outputs": [
    {
     "name": "stdout",
     "output_type": "stream",
     "text": [
      "   pub_rec_bankruptcies\n",
      "0  0.0                 \n",
      "1  0.0                 \n",
      "2  0.0                 \n",
      "3  0.0                 \n",
      "4  0.0                 \n"
     ]
    },
    {
     "data": {
      "image/png": "[encoded data removed]",
      "text/plain": [
       "<Figure size 864x288 with 1 Axes>"
      ]
     },
     "metadata": {
      "needs_background": "light"
     },
     "output_type": "display_data"
    }
   ],
   "source": [
    "head_and_bar_plot(cleanedup_loan_data, 'pub_rec_bankruptcies')\n",
    "# majority of loans are for 0 public record bankruptcies, but some given out for people with 1 records"
   ]
  },
  {
   "cell_type": "code",
   "execution_count": 31,
   "metadata": {},
   "outputs": [
    {
     "name": "stdout",
     "output_type": "stream",
     "text": [
      "   delinq_2yrs\n",
      "0  0          \n",
      "1  0          \n",
      "2  0          \n",
      "3  0          \n",
      "4  0          \n"
     ]
    },
    {
     "data": {
      "image/png": "[encoded data removed]",
      "text/plain": [
       "<Figure size 864x288 with 1 Axes>"
      ]
     },
     "metadata": {
      "needs_background": "light"
     },
     "output_type": "display_data"
    }
   ],
   "source": [
    "head_and_bar_plot(cleanedup_loan_data, 'delinq_2yrs')\n",
    "# number 1 corresponds to default rate"
   ]
  },
  {
   "cell_type": "code",
   "execution_count": 32,
   "metadata": {},
   "outputs": [
    {
     "name": "stdout",
     "output_type": "stream",
     "text": [
      "   open_acc\n",
      "0  3       \n",
      "1  3       \n",
      "2  2       \n",
      "3  10      \n",
      "4  15      \n"
     ]
    },
    {
     "data": {
      "image/png": "[encoded data removed]",
      "text/plain": [
       "<Figure size 864x288 with 1 Axes>"
      ]
     },
     "metadata": {
      "needs_background": "light"
     },
     "output_type": "display_data"
    }
   ],
   "source": [
    "head_and_bar_plot(cleanedup_loan_data, 'open_acc')\n",
    "# seems like people with 5-10 accs have highest applications"
   ]
  },
  {
   "cell_type": "markdown",
   "metadata": {},
   "source": [
    "### Continuous variables"
   ]
  },
  {
   "cell_type": "code",
   "execution_count": 87,
   "metadata": {},
   "outputs": [],
   "source": [
    "# convert interest rate to number\n",
    "cleanedup_loan_data['int_rate'] = cleanedup_loan_data['int_rate'].apply(lambda x : float(x.split('%')[0]))\n",
    "cleanedup_loan_data['revol_util'] = cleanedup_loan_data['revol_util'].apply(lambda x : float(str(x).split('%')[0]))"
   ]
  },
  {
   "cell_type": "code",
   "execution_count": 88,
   "metadata": {
    "scrolled": true
   },
   "outputs": [
    {
     "data": {
      "text/html": [
       "<div>\n",
       "<style scoped>\n",
       "    .dataframe tbody tr th:only-of-type {\n",
       "        vertical-align: middle;\n",
       "    }\n",
       "\n",
       "    .dataframe tbody tr th {\n",
       "        vertical-align: top;\n",
       "    }\n",
       "\n",
       "    .dataframe thead th {\n",
       "        text-align: right;\n",
       "    }\n",
       "</style>\n",
       "<table border=\"1\" class=\"dataframe\">\n",
       "  <thead>\n",
       "    <tr style=\"text-align: right;\">\n",
       "      <th></th>\n",
       "      <th>int_rate</th>\n",
       "      <th>loan_amnt</th>\n",
       "      <th>installment</th>\n",
       "      <th>revol_bal</th>\n",
       "      <th>dti</th>\n",
       "      <th>funded_amnt</th>\n",
       "      <th>revol_util</th>\n",
       "      <th>annual_inc</th>\n",
       "    </tr>\n",
       "  </thead>\n",
       "  <tbody>\n",
       "    <tr>\n",
       "      <td>count</td>\n",
       "      <td>39717.000000</td>\n",
       "      <td>39717.000000</td>\n",
       "      <td>39717.000000</td>\n",
       "      <td>39717.000000</td>\n",
       "      <td>39717.000000</td>\n",
       "      <td>39717.000000</td>\n",
       "      <td>39667.000000</td>\n",
       "      <td>3.971700e+04</td>\n",
       "    </tr>\n",
       "    <tr>\n",
       "      <td>mean</td>\n",
       "      <td>12.021177</td>\n",
       "      <td>11219.443815</td>\n",
       "      <td>324.561922</td>\n",
       "      <td>13382.528086</td>\n",
       "      <td>13.315130</td>\n",
       "      <td>10947.713196</td>\n",
       "      <td>48.832152</td>\n",
       "      <td>6.896893e+04</td>\n",
       "    </tr>\n",
       "    <tr>\n",
       "      <td>std</td>\n",
       "      <td>3.724825</td>\n",
       "      <td>7456.670694</td>\n",
       "      <td>208.874874</td>\n",
       "      <td>15885.016641</td>\n",
       "      <td>6.678594</td>\n",
       "      <td>7187.238670</td>\n",
       "      <td>28.332634</td>\n",
       "      <td>6.379377e+04</td>\n",
       "    </tr>\n",
       "    <tr>\n",
       "      <td>min</td>\n",
       "      <td>5.420000</td>\n",
       "      <td>500.000000</td>\n",
       "      <td>15.690000</td>\n",
       "      <td>0.000000</td>\n",
       "      <td>0.000000</td>\n",
       "      <td>500.000000</td>\n",
       "      <td>0.000000</td>\n",
       "      <td>4.000000e+03</td>\n",
       "    </tr>\n",
       "    <tr>\n",
       "      <td>25%</td>\n",
       "      <td>9.250000</td>\n",
       "      <td>5500.000000</td>\n",
       "      <td>167.020000</td>\n",
       "      <td>3703.000000</td>\n",
       "      <td>8.170000</td>\n",
       "      <td>5400.000000</td>\n",
       "      <td>25.400000</td>\n",
       "      <td>4.040400e+04</td>\n",
       "    </tr>\n",
       "    <tr>\n",
       "      <td>50%</td>\n",
       "      <td>11.860000</td>\n",
       "      <td>10000.000000</td>\n",
       "      <td>280.220000</td>\n",
       "      <td>8850.000000</td>\n",
       "      <td>13.400000</td>\n",
       "      <td>9600.000000</td>\n",
       "      <td>49.300000</td>\n",
       "      <td>5.900000e+04</td>\n",
       "    </tr>\n",
       "    <tr>\n",
       "      <td>75%</td>\n",
       "      <td>14.590000</td>\n",
       "      <td>15000.000000</td>\n",
       "      <td>430.780000</td>\n",
       "      <td>17058.000000</td>\n",
       "      <td>18.600000</td>\n",
       "      <td>15000.000000</td>\n",
       "      <td>72.400000</td>\n",
       "      <td>8.230000e+04</td>\n",
       "    </tr>\n",
       "    <tr>\n",
       "      <td>max</td>\n",
       "      <td>24.590000</td>\n",
       "      <td>35000.000000</td>\n",
       "      <td>1305.190000</td>\n",
       "      <td>149588.000000</td>\n",
       "      <td>29.990000</td>\n",
       "      <td>35000.000000</td>\n",
       "      <td>99.900000</td>\n",
       "      <td>6.000000e+06</td>\n",
       "    </tr>\n",
       "  </tbody>\n",
       "</table>\n",
       "</div>"
      ],
      "text/plain": [
       "           int_rate     loan_amnt   installment      revol_bal           dti  \\\n",
       "count  39717.000000  39717.000000  39717.000000  39717.000000   39717.000000   \n",
       "mean   12.021177     11219.443815  324.561922    13382.528086   13.315130      \n",
       "std    3.724825      7456.670694   208.874874    15885.016641   6.678594       \n",
       "min    5.420000      500.000000    15.690000     0.000000       0.000000       \n",
       "25%    9.250000      5500.000000   167.020000    3703.000000    8.170000       \n",
       "50%    11.860000     10000.000000  280.220000    8850.000000    13.400000      \n",
       "75%    14.590000     15000.000000  430.780000    17058.000000   18.600000      \n",
       "max    24.590000     35000.000000  1305.190000   149588.000000  29.990000      \n",
       "\n",
       "        funded_amnt    revol_util    annual_inc  \n",
       "count  39717.000000  39667.000000  3.971700e+04  \n",
       "mean   10947.713196  48.832152     6.896893e+04  \n",
       "std    7187.238670   28.332634     6.379377e+04  \n",
       "min    500.000000    0.000000      4.000000e+03  \n",
       "25%    5400.000000   25.400000     4.040400e+04  \n",
       "50%    9600.000000   49.300000     5.900000e+04  \n",
       "75%    15000.000000  72.400000     8.230000e+04  \n",
       "max    35000.000000  99.900000     6.000000e+06  "
      ]
     },
     "execution_count": 88,
     "metadata": {},
     "output_type": "execute_result"
    }
   ],
   "source": [
    "cleanedup_loan_data[['int_rate', 'loan_amnt', 'installment', \n",
    "                     'revol_bal', 'dti', 'funded_amnt',\n",
    "                     'revol_util', 'annual_inc']].describe()"
   ]
  },
  {
   "cell_type": "code",
   "execution_count": 89,
   "metadata": {
    "scrolled": false
   },
   "outputs": [
    {
     "data": {
      "image/png": "[encoded data removed]",
      "text/plain": [
       "<Figure size 1080x576 with 9 Axes>"
      ]
     },
     "metadata": {
      "needs_background": "light"
     },
     "output_type": "display_data"
    }
   ],
   "source": [
    "cleanedup_loan_data[['int_rate', 'loan_amnt', 'installment', \n",
    "                     'revol_bal', 'dti', 'funded_amnt',\n",
    "                     'revol_util', 'annual_inc']].hist(figsize=(15,8))\n",
    "plt.show()"
   ]
  },
  {
   "cell_type": "markdown",
   "metadata": {},
   "source": [
    "#### <font color='Maroon'> </font>"
   ]
  },
  {
   "cell_type": "code",
   "execution_count": 99,
   "metadata": {},
   "outputs": [],
   "source": [
    "# visualize outlier removal\n",
    "def box_plot(df, col):\n",
    "    plt.figure(figsize=(12, 6))\n",
    "    df[[col]].plot.box(ax=plt.subplot(121))\n",
    "    df[col].plot.box(ax=plt.subplot(122))\n",
    "    plt.show()"
   ]
  },
  {
   "cell_type": "code",
   "execution_count": null,
   "metadata": {},
   "outputs": [],
   "source": []
  },
  {
   "cell_type": "code",
   "execution_count": 92,
   "metadata": {},
   "outputs": [],
   "source": [
    "# visualize outlier removal\n",
    "def box_plot_remove_outlier(df, col, val):\n",
    "    plt.figure(figsize=(12, 6))\n",
    "    print(f'{col} : outlier cutoff={val}')\n",
    "    df[[col]].plot.box(ax=plt.subplot(121))\n",
    "    df[df[col] <= val][col].plot.box(ax=plt.subplot(122))\n",
    "    plt.show()"
   ]
  },
  {
   "cell_type": "code",
   "execution_count": 97,
   "metadata": {
    "scrolled": false
   },
   "outputs": [
    {
     "name": "stdout",
     "output_type": "stream",
     "text": [
      "int_rate : outlier cutoff=25\n"
     ]
    },
    {
     "data": {
      "image/png": "[encoded data removed]",
      "text/plain": [
       "<Figure size 864x432 with 2 Axes>"
      ]
     },
     "metadata": {
      "needs_background": "light"
     },
     "output_type": "display_data"
    },
    {
     "name": "stdout",
     "output_type": "stream",
     "text": [
      "loan_amnt : outlier cutoff=28000\n"
     ]
    },
    {
     "data": {
      "image/png": "[encoded data removed]",
      "text/plain": [
       "<Figure size 864x432 with 2 Axes>"
      ]
     },
     "metadata": {
      "needs_background": "light"
     },
     "output_type": "display_data"
    },
    {
     "name": "stdout",
     "output_type": "stream",
     "text": [
      "installment : outlier cutoff=800\n"
     ]
    },
    {
     "data": {
      "image/png": "[encoded data removed]",
      "text/plain": [
       "<Figure size 864x432 with 2 Axes>"
      ]
     },
     "metadata": {
      "needs_background": "light"
     },
     "output_type": "display_data"
    },
    {
     "name": "stdout",
     "output_type": "stream",
     "text": [
      "revol_bal : outlier cutoff=28000\n"
     ]
    },
    {
     "data": {
      "image/png": "[encoded data removed]",
      "text/plain": [
       "<Figure size 864x432 with 2 Axes>"
      ]
     },
     "metadata": {
      "needs_background": "light"
     },
     "output_type": "display_data"
    },
    {
     "name": "stdout",
     "output_type": "stream",
     "text": [
      "dti : outlier cutoff=30\n"
     ]
    },
    {
     "data": {
      "image/png": "[encoded data removed]",
      "text/plain": [
       "<Figure size 864x432 with 2 Axes>"
      ]
     },
     "metadata": {
      "needs_background": "light"
     },
     "output_type": "display_data"
    },
    {
     "name": "stdout",
     "output_type": "stream",
     "text": [
      "funded_amnt : outlier cutoff=30000\n"
     ]
    },
    {
     "data": {
      "image/png": "[encoded data removed]",
      "text/plain": [
       "<Figure size 864x432 with 2 Axes>"
      ]
     },
     "metadata": {
      "needs_background": "light"
     },
     "output_type": "display_data"
    },
    {
     "name": "stdout",
     "output_type": "stream",
     "text": [
      "revol_util : outlier cutoff=100\n"
     ]
    },
    {
     "data": {
      "image/png": "[encoded data removed]",
      "text/plain": [
       "<Figure size 864x432 with 2 Axes>"
      ]
     },
     "metadata": {
      "needs_background": "light"
     },
     "output_type": "display_data"
    },
    {
     "name": "stdout",
     "output_type": "stream",
     "text": [
      "annual_inc : outlier cutoff=82300.0\n"
     ]
    },
    {
     "data": {
      "image/png": "[encoded data removed]",
      "text/plain": [
       "<Figure size 864x432 with 2 Axes>"
      ]
     },
     "metadata": {
      "needs_background": "light"
     },
     "output_type": "display_data"
    }
   ],
   "source": [
    "outlier_maps = {'int_rate': 25, # dont want to apply outlier treatment\n",
    "                'loan_amnt': 28000,\n",
    "                'installment': 800, \n",
    "                'revol_bal': 28000, \n",
    "                'dti': 30, \n",
    "                'funded_amnt': 30000,\n",
    "                'revol_util': 100, \n",
    "                'annual_inc': 8.230000e+04}\n",
    "for col, val in outlier_maps.items():\n",
    "    box_plot_remove_outlier(cleanedup_loan_data, col, val)\n"
   ]
  },
  {
   "cell_type": "markdown",
   "metadata": {},
   "source": [
    "### Segemented Univariate Analysis"
   ]
  },
  {
   "cell_type": "code",
   "execution_count": 139,
   "metadata": {},
   "outputs": [],
   "source": [
    "def group_and_default_rate(col):\n",
    "    p_table = cleanedup_loan_data.groupby([col, 'loan_status']).count()[['id']]\n",
    "    p_table = p_table.reset_index()\n",
    "    totals_table = p_table.groupby(col).sum()\n",
    "    p_table['totals'] = p_table[col].apply(lambda x : totals_table.loc[x]['id'])\n",
    "    p_table['rate'] = round(100*(p_table['id']/p_table['totals']))\n",
    "\n",
    "    p_table[p_table['loan_status'] == 'Charged Off'][[col, 'rate']] \\\n",
    "            .sort_values('rate', ascending=False) \\\n",
    "            .head(50) \\\n",
    "            .plot.bar(x=col, y='rate', figsize=(18, 6))\n",
    "    plt.xticks(rotation=90)\n",
    "    # total charged off loans are 14% of total\n",
    "    plt.axhline(y=14, linewidth=0.2, color='k')\n",
    "    plt.show()\n",
    "\n",
    "    print(p_table[p_table['loan_status'] == 'Charged Off'][[col, 'rate']].describe())"
   ]
  },
  {
   "cell_type": "code",
   "execution_count": 140,
   "metadata": {},
   "outputs": [
    {
     "data": {
      "image/png": "[encoded data removed]",
      "text/plain": [
       "<Figure size 1296x432 with 1 Axes>"
      ]
     },
     "metadata": {
      "needs_background": "light"
     },
     "output_type": "display_data"
    },
    {
     "name": "stdout",
     "output_type": "stream",
     "text": [
      "            rate\n",
      "count  47.000000\n",
      "mean   14.702128\n",
      "std    7.345258 \n",
      "min    5.000000 \n",
      "25%    12.000000\n",
      "50%    13.000000\n",
      "75%    15.500000\n",
      "max    60.000000\n"
     ]
    }
   ],
   "source": [
    "# is there any relation w.r.t addr_state and default rate\n",
    "group_and_default_rate('addr_state')\n",
    "\n",
    "# Nebraska and Nevada have unusually high rate of defaults"
   ]
  },
  {
   "cell_type": "code",
   "execution_count": 141,
   "metadata": {},
   "outputs": [
    {
     "data": {
      "image/png": "[encoded data removed]",
      "text/plain": [
       "<Figure size 1296x432 with 1 Axes>"
      ]
     },
     "metadata": {
      "needs_background": "light"
     },
     "output_type": "display_data"
    },
    {
     "name": "stdout",
     "output_type": "stream",
     "text": [
      "            rate\n",
      "count  3.000000 \n",
      "mean   14.333333\n",
      "std    1.527525 \n",
      "min    13.000000\n",
      "25%    13.500000\n",
      "50%    14.000000\n",
      "75%    15.000000\n",
      "max    16.000000\n"
     ]
    }
   ],
   "source": [
    "# is there any relation w.r.t verification_status and default rate\n",
    "group_and_default_rate('verification_status')\n",
    "# not much difference, infact verified applicants have higher default rate!"
   ]
  },
  {
   "cell_type": "code",
   "execution_count": 142,
   "metadata": {},
   "outputs": [
    {
     "data": {
      "image/png": "[encoded data removed]",
      "text/plain": [
       "<Figure size 1296x432 with 1 Axes>"
      ]
     },
     "metadata": {
      "needs_background": "light"
     },
     "output_type": "display_data"
    },
    {
     "name": "stdout",
     "output_type": "stream",
     "text": [
      "            rate\n",
      "count  14.000000\n",
      "mean   14.642857\n",
      "std    4.253635 \n",
      "min    10.000000\n",
      "25%    11.250000\n",
      "50%    15.000000\n",
      "75%    16.000000\n",
      "max    26.000000\n"
     ]
    }
   ],
   "source": [
    "# is there any relation w.r.t purpose of loan and default rate\n",
    "group_and_default_rate('purpose')\n",
    "# very IMP - small_business loans have higher share of default rates"
   ]
  },
  {
   "cell_type": "code",
   "execution_count": 143,
   "metadata": {},
   "outputs": [
    {
     "data": {
      "image/png": "[encoded data removed]",
      "text/plain": [
       "<Figure size 1296x432 with 1 Axes>"
      ]
     },
     "metadata": {
      "needs_background": "light"
     },
     "output_type": "display_data"
    },
    {
     "name": "stdout",
     "output_type": "stream",
     "text": [
      "            rate\n",
      "count  4.000000 \n",
      "mean   15.000000\n",
      "std    2.160247 \n",
      "min    13.000000\n",
      "25%    13.750000\n",
      "50%    14.500000\n",
      "75%    15.750000\n",
      "max    18.000000\n"
     ]
    }
   ],
   "source": [
    "# is there any relation w.r.t home_ownership and default rate\n",
    "group_and_default_rate('home_ownership')\n",
    "# not sure what others refer to. But people with mortgage have less rate."
   ]
  },
  {
   "cell_type": "code",
   "execution_count": 144,
   "metadata": {},
   "outputs": [
    {
     "data": {
      "image/png": "[encoded data removed]",
      "text/plain": [
       "<Figure size 1296x432 with 1 Axes>"
      ]
     },
     "metadata": {
      "needs_background": "light"
     },
     "output_type": "display_data"
    },
    {
     "name": "stdout",
     "output_type": "stream",
     "text": [
      "              rate\n",
      "count  4636.000000\n",
      "mean   88.562985  \n",
      "std    25.417857  \n",
      "min    3.000000   \n",
      "25%    100.000000 \n",
      "50%    100.000000 \n",
      "75%    100.000000 \n",
      "max    100.000000 \n"
     ]
    }
   ],
   "source": [
    "# is there any relation w.r.t home_ownership and default rate\n",
    "group_and_default_rate('emp_title')\n",
    "# looks like people have 100% default rate from specific companies."
   ]
  },
  {
   "cell_type": "code",
   "execution_count": 145,
   "metadata": {},
   "outputs": [
    {
     "data": {
      "image/png": "[encoded data removed]",
      "text/plain": [
       "<Figure size 1296x432 with 1 Axes>"
      ]
     },
     "metadata": {
      "needs_background": "light"
     },
     "output_type": "display_data"
    },
    {
     "name": "stdout",
     "output_type": "stream",
     "text": [
      "            rate\n",
      "count  2.000000 \n",
      "mean   17.000000\n",
      "std    8.485281 \n",
      "min    11.000000\n",
      "25%    14.000000\n",
      "50%    17.000000\n",
      "75%    20.000000\n",
      "max    23.000000\n"
     ]
    }
   ],
   "source": [
    "# is there any relation w.r.t term and default rate\n",
    "group_and_default_rate('term')\n",
    "# longer duration loans have higher default rate"
   ]
  },
  {
   "cell_type": "code",
   "execution_count": 147,
   "metadata": {},
   "outputs": [
    {
     "data": {
      "image/png": "[encoded data removed]",
      "text/plain": [
       "<Figure size 1296x432 with 1 Axes>"
      ]
     },
     "metadata": {
      "needs_background": "light"
     },
     "output_type": "display_data"
    },
    {
     "name": "stdout",
     "output_type": "stream",
     "text": [
      "            rate\n",
      "count  11.000000\n",
      "mean   13.909091\n",
      "std    0.700649 \n",
      "min    13.000000\n",
      "25%    13.500000\n",
      "50%    14.000000\n",
      "75%    14.000000\n",
      "max    15.000000\n"
     ]
    }
   ],
   "source": [
    "# is there any relation w.r.t emp_length and default rate\n",
    "group_and_default_rate('emp_length')\n",
    "# not much relation."
   ]
  },
  {
   "cell_type": "code",
   "execution_count": 148,
   "metadata": {},
   "outputs": [
    {
     "data": {
      "image/png": "[encoded data removed]",
      "text/plain": [
       "<Figure size 1296x432 with 1 Axes>"
      ]
     },
     "metadata": {
      "needs_background": "light"
     },
     "output_type": "display_data"
    },
    {
     "name": "stdout",
     "output_type": "stream",
     "text": [
      "            rate\n",
      "count  7.000000 \n",
      "mean   20.428571\n",
      "std    9.466734 \n",
      "min    6.000000 \n",
      "25%    14.500000\n",
      "50%    21.000000\n",
      "75%    27.500000\n",
      "max    32.000000\n"
     ]
    }
   ],
   "source": [
    "# is there any relation w.r.t grade and default rate\n",
    "group_and_default_rate('grade')\n",
    "# Only A and to some extent B grades are better performers."
   ]
  },
  {
   "cell_type": "code",
   "execution_count": 149,
   "metadata": {},
   "outputs": [
    {
     "data": {
      "image/png": "[encoded data removed]",
      "text/plain": [
       "<Figure size 1296x432 with 1 Axes>"
      ]
     },
     "metadata": {
      "needs_background": "light"
     },
     "output_type": "display_data"
    },
    {
     "name": "stdout",
     "output_type": "stream",
     "text": [
      "            rate\n",
      "count  35.000000\n",
      "mean   20.800000\n",
      "std    10.260719\n",
      "min    3.000000 \n",
      "25%    13.000000\n",
      "50%    22.000000\n",
      "75%    28.000000\n",
      "max    46.000000\n"
     ]
    }
   ],
   "source": [
    "# is there any relation w.r.t sub_grade and default rate\n",
    "group_and_default_rate('sub_grade')\n",
    "# some sub grades have out of norm performances."
   ]
  },
  {
   "cell_type": "code",
   "execution_count": 150,
   "metadata": {},
   "outputs": [
    {
     "data": {
      "image/png": "[encoded data removed]",
      "text/plain": [
       "<Figure size 1296x432 with 1 Axes>"
      ]
     },
     "metadata": {
      "needs_background": "light"
     },
     "output_type": "display_data"
    },
    {
     "name": "stdout",
     "output_type": "stream",
     "text": [
      "       pub_rec       rate\n",
      "count  3.0      3.000000 \n",
      "mean   1.0      18.666667\n",
      "std    1.0      4.163332 \n",
      "min    0.0      14.000000\n",
      "25%    0.5      17.000000\n",
      "50%    1.0      20.000000\n",
      "75%    1.5      21.000000\n",
      "max    2.0      22.000000\n"
     ]
    }
   ],
   "source": [
    "# is there any relation w.r.t pub_rec and default rate\n",
    "group_and_default_rate('pub_rec')\n",
    "# on expected lines - people with 1/2 pub_recs have higher default rate."
   ]
  },
  {
   "cell_type": "code",
   "execution_count": 151,
   "metadata": {},
   "outputs": [
    {
     "data": {
      "image/png": "[encoded data removed]",
      "text/plain": [
       "<Figure size 1296x432 with 1 Axes>"
      ]
     },
     "metadata": {
      "needs_background": "light"
     },
     "output_type": "display_data"
    },
    {
     "name": "stdout",
     "output_type": "stream",
     "text": [
      "        open_acc       rate\n",
      "count  34.000000  34.00000 \n",
      "mean   18.676471  20.50000 \n",
      "std    10.253516  17.59864 \n",
      "min    2.000000   8.00000  \n",
      "25%    10.250000  14.00000 \n",
      "50%    18.500000  14.50000 \n",
      "75%    26.750000  20.00000 \n",
      "max    38.000000  100.00000\n"
     ]
    }
   ],
   "source": [
    "# is there any relation w.r.t open_acc and default rate\n",
    "group_and_default_rate('open_acc')\n",
    "# not sure what to make out of it."
   ]
  }
 ],
 "metadata": {
  "kernelspec": {
   "display_name": "Python 3",
   "language": "python",
   "name": "python3"
  },
  "language_info": {
   "codemirror_mode": {
    "name": "ipython",
    "version": 3
   },
   "file_extension": ".py",
   "mimetype": "text/x-python",
   "name": "python",
   "nbconvert_exporter": "python",
   "pygments_lexer": "ipython3",
   "version": "3.7.3"
  }
 },
 "nbformat": 4,
 "nbformat_minor": 2
}
